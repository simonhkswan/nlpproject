{
 "cells": [
  {
   "cell_type": "markdown",
   "metadata": {},
   "source": [
    "## Word Vectorisation Notebook\n",
    "Below is the code used for generating various embeddings used in the neural models.\n",
    "\n",
    "### Imported libraries"
   ]
  },
  {
   "cell_type": "code",
   "execution_count": 5,
   "metadata": {},
   "outputs": [],
   "source": [
    "import os\n",
    "import urllib.request\n",
    "import numpy as np\n",
    "import zipfile\n",
    "import tensorflow as tf\n",
    "import collections\n",
    "import random\n",
    "import h5py as h5py\n",
    "\n",
    "\n",
    "from keras.models import Sequential,Model\n",
    "from keras.optimizers import RMSprop\n",
    "from keras.layers import Embedding,LSTM,Dense,Lambda,merge,Input\n",
    "from keras.callbacks import TensorBoard,ModelCheckpoint,Callback\n",
    "from keras import backend as K"
   ]
  },
  {
   "cell_type": "markdown",
   "metadata": {},
   "source": [
    "### Functions defined\n",
    "```python\n",
    "maybe_download(filename)\n",
    "#Downloads a file if not present.\n",
    "\n",
    "read_data(filename)\n",
    "#Extract the first file enclosed in a zip file as a list of words.\n",
    "\n",
    "build_dataset(words, n_words)\n",
    "#Process raw inputs into a dataset.\n",
    "\n",
    "generate_batches(data, size, contextWidth, negativeSize)\n",
    "#Returns batches of input words with their contexts and a set of negative samples.\n",
    "```\n"
   ]
  },
  {
   "cell_type": "code",
   "execution_count": 6,
   "metadata": {},
   "outputs": [],
   "source": [
    "def maybe_download(url, filename):\n",
    "  \"\"\"Download a file if not present.\"\"\"\n",
    "  if not os.path.exists(\"./downloads/\"+filename):\n",
    "    filename, _ = urllib.request.urlretrieve(url + filename, \"./downloads/\"+filename)\n",
    "  return filename\n",
    "\n",
    "def read_data(filename):\n",
    "  \"\"\"Extract the first file enclosed in a zip file as a list of words.\"\"\"\n",
    "  with zipfile.ZipFile(\"./downloads/\"+filename) as f:\n",
    "    data = tf.compat.as_str(f.read(f.namelist()[0])).split()\n",
    "  return data\n",
    "\n",
    "def build_dataset(words, n_words):\n",
    "  \"\"\"Process raw inputs into a dataset.\"\"\"\n",
    "  count = [['UNK', -1]]\n",
    "  count.extend(collections.Counter(words).most_common(n_words - 1))\n",
    "  dictionary = dict()\n",
    "  for word, _ in count:\n",
    "    dictionary[word] = len(dictionary)\n",
    "  data = list()\n",
    "  unk_count = 0\n",
    "  for word in words:\n",
    "    if word in dictionary:\n",
    "      index = dictionary[word]\n",
    "    else:\n",
    "      index = 0  # dictionary['UNK']\n",
    "      unk_count += 1\n",
    "    data.append(index)\n",
    "  count[0][1] = unk_count\n",
    "  reversed_dictionary = dict(zip(dictionary.values(), dictionary.keys()))\n",
    "  return data, count, dictionary, reversed_dictionary\n",
    "\n",
    "def generate_batches(data, size, contextWidth, negativeSize):\n",
    "  cHalfWidth = int(contextWidth/2)\n",
    "  words = []\n",
    "  contexts = []\n",
    "  negatives = []\n",
    "  index = random.sample(range(cHalfWidth,len(data)-cHalfWidth),size)\n",
    "  for z in index:\n",
    "      context = []\n",
    "      for m in range(-cHalfWidth,cHalfWidth+1):\n",
    "        if m == 0:\n",
    "          words.append([data[z]])\n",
    "        else: \n",
    "          context.append(data[z+m])\n",
    "      contexts.append(context)\n",
    "      negatives.append(random.sample(data,negativeSize))\n",
    "  return([np.array(words),np.array(contexts),np.array(negatives)],[np.array([1]*size),np.array([[0]*negativeSize]*size)])"
   ]
  },
  {
   "cell_type": "markdown",
   "metadata": {},
   "source": [
    "### Downloading Wikipedia text database"
   ]
  },
  {
   "cell_type": "code",
   "execution_count": 7,
   "metadata": {},
   "outputs": [
    {
     "name": "stdout",
     "output_type": "stream",
     "text": [
      "Number of words:  17005207\n"
     ]
    }
   ],
   "source": [
    "filename = maybe_download('http://mattmahoney.net/dc/', 'text8.zip')\n",
    "vocabulary = read_data(filename)\n",
    "print('Number of words: ', len(vocabulary))"
   ]
  },
  {
   "cell_type": "markdown",
   "metadata": {},
   "source": [
    "### Parameters for skipgram model"
   ]
  },
  {
   "cell_type": "code",
   "execution_count": 8,
   "metadata": {},
   "outputs": [],
   "source": [
    "vocabulary_size = 5000\n",
    "data_index = 0\n",
    "batch_size = 128\n",
    "wordvec_dim = 32\n",
    "\n",
    "skip_window = 3       # How many words to consider left and right.\n",
    "num_skips = 4         # How many times to reuse an input to generate a label.\n",
    "context_half = 3\n",
    "context_size = context_half*2\n",
    "\n",
    "valid_size = 16     # Random set of words to evaluate similarity on.\n",
    "valid_window = 100  # Only pick dev samples in the head of the distribution.\n",
    "valid_examples = np.random.choice(valid_window, valid_size, replace=False)\n",
    "neg_size = 5    # Number of negative examples to sample.\n"
   ]
  },
  {
   "cell_type": "markdown",
   "metadata": {},
   "source": [
    "### Creating a dictionary and reverse dictionary for word embedding"
   ]
  },
  {
   "cell_type": "code",
   "execution_count": 9,
   "metadata": {},
   "outputs": [],
   "source": [
    "data, count, dictionary, reverse_dictionary = build_dataset(vocabulary,vocabulary_size)\n",
    "del vocabulary  # Hint to reduce memory."
   ]
  },
  {
   "cell_type": "markdown",
   "metadata": {},
   "source": [
    "### Saving a .tsv label file for viewing in TensorBoard"
   ]
  },
  {
   "cell_type": "code",
   "execution_count": 10,
   "metadata": {},
   "outputs": [],
   "source": [
    "with open('./logs/word2vec_label.tsv', 'w') as fr:\n",
    "    for i in range(vocabulary_size):\n",
    "        fr.write(reverse_dictionary[i]+'\\n')"
   ]
  },
  {
   "cell_type": "markdown",
   "metadata": {},
   "source": [
    "### Generate training/validation batches"
   ]
  },
  {
   "cell_type": "code",
   "execution_count": 11,
   "metadata": {},
   "outputs": [],
   "source": [
    "X,Y = generate_batches(data, 500000, context_size, neg_size)\n",
    "vX, vY = generate_batches(data, 5000, context_size, neg_size)"
   ]
  },
  {
   "cell_type": "markdown",
   "metadata": {},
   "source": [
    "### Definining neural model with Keras\n",
    "Graph of word2vec neural model used shown below.\n",
    "\n",
    "\n",
    "![Graph of cbow model](./images/word2vecmodel.png)\n"
   ]
  },
  {
   "cell_type": "code",
   "execution_count": 12,
   "metadata": {},
   "outputs": [
    {
     "name": "stderr",
     "output_type": "stream",
     "text": [
      "/Applications/anaconda/envs/nlp/lib/python3.6/site-packages/ipykernel_launcher.py:12: UserWarning: The `merge` function is deprecated and will be removed after 08/2017. Use instead layers from `keras.layers.merge`, e.g. `add`, `concatenate`, etc.\n",
      "  if sys.path[0] == '':\n",
      "/Applications/anaconda/envs/nlp/lib/python3.6/site-packages/keras/legacy/layers.py:458: UserWarning: The `Merge` layer is deprecated and will be removed after 08/2017. Use instead layers from `keras.layers.merge`, e.g. `add`, `concatenate`, etc.\n",
      "  name=name)\n",
      "/Applications/anaconda/envs/nlp/lib/python3.6/site-packages/ipykernel_launcher.py:13: UserWarning: The `merge` function is deprecated and will be removed after 08/2017. Use instead layers from `keras.layers.merge`, e.g. `add`, `concatenate`, etc.\n",
      "  del sys.path[0]\n",
      "/Applications/anaconda/envs/nlp/lib/python3.6/site-packages/ipykernel_launcher.py:15: UserWarning: Update your `Model` call to the Keras 2 API: `Model(inputs=[<tf.Tenso..., outputs=[<tf.Tenso...)`\n",
      "  from ipykernel import kernelapp as app\n"
     ]
    }
   ],
   "source": [
    "word = Input(shape=(1,), name='inputWord')\n",
    "context = Input(shape=(context_size,), name='inputContext')\n",
    "negSamples = Input(shape=(neg_size,), name='inputNegatives')\n",
    "\n",
    "word2vec = Embedding(input_dim=vocabulary_size,output_dim=wordvec_dim, embeddings_initializer='glorot_normal', name='word2vec')\n",
    "\n",
    "vec_word = word2vec(word)\n",
    "vec_context = word2vec(context)\n",
    "vec_negSamples = word2vec(negSamples)\n",
    "cbow = Lambda(lambda x: K.mean(x, axis=1), name='cbowAverage')(vec_context)\n",
    "\n",
    "word_context = merge([vec_word, cbow], mode='dot')\n",
    "negative_context = merge([vec_negSamples, cbow], mode='dot', concat_axis=-1)\n",
    "\n",
    "model = Model(input=[word,context,negSamples], output=[word_context,negative_context])"
   ]
  },
  {
   "cell_type": "code",
   "execution_count": 13,
   "metadata": {},
   "outputs": [
    {
     "name": "stdout",
     "output_type": "stream",
     "text": [
      "__________________________________________________________________________________________________\n",
      "Layer (type)                    Output Shape         Param #     Connected to                     \n",
      "==================================================================================================\n",
      "inputWord (InputLayer)          (None, 1)            0                                            \n",
      "__________________________________________________________________________________________________\n",
      "inputContext (InputLayer)       (None, 6)            0                                            \n",
      "__________________________________________________________________________________________________\n",
      "word2vec (Embedding)            multiple             160000      inputWord[0][0]                  \n",
      "                                                                 inputContext[0][0]               \n",
      "                                                                 inputNegatives[0][0]             \n",
      "__________________________________________________________________________________________________\n",
      "inputNegatives (InputLayer)     (None, 5)            0                                            \n",
      "__________________________________________________________________________________________________\n",
      "cbowAverage (Lambda)            (None, 32)           0           word2vec[1][0]                   \n",
      "__________________________________________________________________________________________________\n",
      "merge_3 (Merge)                 (None, 1)            0           word2vec[0][0]                   \n",
      "                                                                 cbowAverage[0][0]                \n",
      "__________________________________________________________________________________________________\n",
      "merge_4 (Merge)                 (None, 5)            0           word2vec[2][0]                   \n",
      "                                                                 cbowAverage[0][0]                \n",
      "==================================================================================================\n",
      "Total params: 160,000\n",
      "Trainable params: 160,000\n",
      "Non-trainable params: 0\n",
      "__________________________________________________________________________________________________\n"
     ]
    }
   ],
   "source": [
    "model.compile(optimizer='rmsprop', loss='mse', metrics=['accuracy'])\n",
    "model.summary()\n",
    "from keras.utils import plot_model\n",
    "plot_model(model, to_file='./images/word2vecmodel.png', show_shapes=True)"
   ]
  },
  {
   "cell_type": "markdown",
   "metadata": {},
   "source": [
    "### Create logs for saving parameters and run training"
   ]
  },
  {
   "cell_type": "code",
   "execution_count": 14,
   "metadata": {},
   "outputs": [
    {
     "name": "stdout",
     "output_type": "stream",
     "text": [
      "Train on 500000 samples, validate on 5000 samples\n",
      "Epoch 1/50\n",
      "500000/500000 [==============================] - 7s 13us/step - loss: 0.5468 - merge_3_loss: 0.3776 - merge_4_loss: 0.1692 - merge_3_acc: 0.4026 - merge_4_acc: 0.2319 - val_loss: 0.4874 - val_merge_3_loss: 0.2848 - val_merge_4_loss: 0.2026 - val_merge_3_acc: 0.5290 - val_merge_4_acc: 0.2156\n",
      "Epoch 2/50\n",
      "500000/500000 [==============================] - 7s 13us/step - loss: 0.4702 - merge_3_loss: 0.2733 - merge_4_loss: 0.1969 - merge_3_acc: 0.5210 - merge_4_acc: 0.2281 - val_loss: 0.4674 - val_merge_3_loss: 0.2696 - val_merge_4_loss: 0.1978 - val_merge_3_acc: 0.5322 - val_merge_4_acc: 0.2126\n",
      "Epoch 3/50\n",
      "500000/500000 [==============================] - 7s 14us/step - loss: 0.4540 - merge_3_loss: 0.2604 - merge_4_loss: 0.1936 - merge_3_acc: 0.5402 - merge_4_acc: 0.2280 - val_loss: 0.4551 - val_merge_3_loss: 0.2600 - val_merge_4_loss: 0.1951 - val_merge_3_acc: 0.5462 - val_merge_4_acc: 0.2146\n",
      "Epoch 4/50\n",
      "500000/500000 [==============================] - 8s 15us/step - loss: 0.4415 - merge_3_loss: 0.2513 - merge_4_loss: 0.1902 - merge_3_acc: 0.5605 - merge_4_acc: 0.2282 - val_loss: 0.4458 - val_merge_3_loss: 0.2527 - val_merge_4_loss: 0.1931 - val_merge_3_acc: 0.5714 - val_merge_4_acc: 0.2192\n",
      "Epoch 5/50\n",
      "500000/500000 [==============================] - 8s 16us/step - loss: 0.4313 - merge_3_loss: 0.2439 - merge_4_loss: 0.1873 - merge_3_acc: 0.5779 - merge_4_acc: 0.2283 - val_loss: 0.4385 - val_merge_3_loss: 0.2510 - val_merge_4_loss: 0.1875 - val_merge_3_acc: 0.5618 - val_merge_4_acc: 0.2158\n",
      "Epoch 6/50\n",
      "500000/500000 [==============================] - 7s 13us/step - loss: 0.4229 - merge_3_loss: 0.2379 - merge_4_loss: 0.1850 - merge_3_acc: 0.5931 - merge_4_acc: 0.2288 - val_loss: 0.4325 - val_merge_3_loss: 0.2443 - val_merge_4_loss: 0.1882 - val_merge_3_acc: 0.5844 - val_merge_4_acc: 0.2170\n",
      "Epoch 7/50\n",
      "500000/500000 [==============================] - 6s 13us/step - loss: 0.4156 - merge_3_loss: 0.2325 - merge_4_loss: 0.1831 - merge_3_acc: 0.6076 - merge_4_acc: 0.2287 - val_loss: 0.4281 - val_merge_3_loss: 0.2427 - val_merge_4_loss: 0.1853 - val_merge_3_acc: 0.5924 - val_merge_4_acc: 0.2174\n",
      "Epoch 8/50\n",
      "500000/500000 [==============================] - 10s 19us/step - loss: 0.4093 - merge_3_loss: 0.2281 - merge_4_loss: 0.1813 - merge_3_acc: 0.6189 - merge_4_acc: 0.2287 - val_loss: 0.4250 - val_merge_3_loss: 0.2396 - val_merge_4_loss: 0.1854 - val_merge_3_acc: 0.6062 - val_merge_4_acc: 0.2166\n",
      "Epoch 9/50\n",
      "500000/500000 [==============================] - 14s 27us/step - loss: 0.4038 - merge_3_loss: 0.2241 - merge_4_loss: 0.1797 - merge_3_acc: 0.6294 - merge_4_acc: 0.2279 - val_loss: 0.4221 - val_merge_3_loss: 0.2372 - val_merge_4_loss: 0.1849 - val_merge_3_acc: 0.6126 - val_merge_4_acc: 0.2162\n",
      "Epoch 10/50\n",
      "500000/500000 [==============================] - 11s 22us/step - loss: 0.3991 - merge_3_loss: 0.2206 - merge_4_loss: 0.1784 - merge_3_acc: 0.6379 - merge_4_acc: 0.2282 - val_loss: 0.4195 - val_merge_3_loss: 0.2358 - val_merge_4_loss: 0.1837 - val_merge_3_acc: 0.6158 - val_merge_4_acc: 0.2178\n",
      "Epoch 11/50\n",
      "500000/500000 [==============================] - 8s 16us/step - loss: 0.3949 - merge_3_loss: 0.2176 - merge_4_loss: 0.1773 - merge_3_acc: 0.6449 - merge_4_acc: 0.2283 - val_loss: 0.4181 - val_merge_3_loss: 0.2353 - val_merge_4_loss: 0.1828 - val_merge_3_acc: 0.6178 - val_merge_4_acc: 0.2174\n",
      "Epoch 12/50\n",
      "500000/500000 [==============================] - 10s 20us/step - loss: 0.3915 - merge_3_loss: 0.2151 - merge_4_loss: 0.1764 - merge_3_acc: 0.6513 - merge_4_acc: 0.2284 - val_loss: 0.4168 - val_merge_3_loss: 0.2374 - val_merge_4_loss: 0.1794 - val_merge_3_acc: 0.6118 - val_merge_4_acc: 0.2200\n",
      "Epoch 13/50\n",
      "500000/500000 [==============================] - 8s 16us/step - loss: 0.3884 - merge_3_loss: 0.2129 - merge_4_loss: 0.1755 - merge_3_acc: 0.6562 - merge_4_acc: 0.2282 - val_loss: 0.4160 - val_merge_3_loss: 0.2372 - val_merge_4_loss: 0.1787 - val_merge_3_acc: 0.6140 - val_merge_4_acc: 0.2190\n",
      "Epoch 14/50\n",
      "500000/500000 [==============================] - 8s 16us/step - loss: 0.3857 - merge_3_loss: 0.2109 - merge_4_loss: 0.1748 - merge_3_acc: 0.6611 - merge_4_acc: 0.2285 - val_loss: 0.4153 - val_merge_3_loss: 0.2331 - val_merge_4_loss: 0.1823 - val_merge_3_acc: 0.6240 - val_merge_4_acc: 0.2188\n",
      "Epoch 15/50\n",
      "500000/500000 [==============================] - 6s 12us/step - loss: 0.3834 - merge_3_loss: 0.2092 - merge_4_loss: 0.1741 - merge_3_acc: 0.6650 - merge_4_acc: 0.2284 - val_loss: 0.4145 - val_merge_3_loss: 0.2357 - val_merge_4_loss: 0.1787 - val_merge_3_acc: 0.6172 - val_merge_4_acc: 0.2144\n",
      "Epoch 16/50\n",
      "500000/500000 [==============================] - 6s 12us/step - loss: 0.3812 - merge_3_loss: 0.2076 - merge_4_loss: 0.1737 - merge_3_acc: 0.6687 - merge_4_acc: 0.2281 - val_loss: 0.4143 - val_merge_3_loss: 0.2346 - val_merge_4_loss: 0.1797 - val_merge_3_acc: 0.6240 - val_merge_4_acc: 0.2168\n",
      "Epoch 17/50\n",
      "500000/500000 [==============================] - 7s 15us/step - loss: 0.3794 - merge_3_loss: 0.2062 - merge_4_loss: 0.1732 - merge_3_acc: 0.6717 - merge_4_acc: 0.2281 - val_loss: 0.4143 - val_merge_3_loss: 0.2342 - val_merge_4_loss: 0.1801 - val_merge_3_acc: 0.6256 - val_merge_4_acc: 0.2186\n",
      "Epoch 18/50\n",
      "500000/500000 [==============================] - 8s 17us/step - loss: 0.3778 - merge_3_loss: 0.2050 - merge_4_loss: 0.1728 - merge_3_acc: 0.6745 - merge_4_acc: 0.2283 - val_loss: 0.4140 - val_merge_3_loss: 0.2345 - val_merge_4_loss: 0.1795 - val_merge_3_acc: 0.6252 - val_merge_4_acc: 0.2174\n",
      "Epoch 19/50\n",
      "500000/500000 [==============================] - 7s 14us/step - loss: 0.3763 - merge_3_loss: 0.2039 - merge_4_loss: 0.1724 - merge_3_acc: 0.6769 - merge_4_acc: 0.2285 - val_loss: 0.4141 - val_merge_3_loss: 0.2340 - val_merge_4_loss: 0.1801 - val_merge_3_acc: 0.6264 - val_merge_4_acc: 0.2168\n",
      "Epoch 20/50\n",
      "500000/500000 [==============================] - 7s 14us/step - loss: 0.3750 - merge_3_loss: 0.2028 - merge_4_loss: 0.1722 - merge_3_acc: 0.6798 - merge_4_acc: 0.2284 - val_loss: 0.4140 - val_merge_3_loss: 0.2343 - val_merge_4_loss: 0.1798 - val_merge_3_acc: 0.6250 - val_merge_4_acc: 0.2146\n",
      "Epoch 21/50\n",
      "500000/500000 [==============================] - 6s 12us/step - loss: 0.3738 - merge_3_loss: 0.2019 - merge_4_loss: 0.1719 - merge_3_acc: 0.6816 - merge_4_acc: 0.2283 - val_loss: 0.4141 - val_merge_3_loss: 0.2353 - val_merge_4_loss: 0.1788 - val_merge_3_acc: 0.6262 - val_merge_4_acc: 0.2176\n",
      "Epoch 22/50\n",
      "500000/500000 [==============================] - 6s 11us/step - loss: 0.3728 - merge_3_loss: 0.2011 - merge_4_loss: 0.1717 - merge_3_acc: 0.6835 - merge_4_acc: 0.2284 - val_loss: 0.4138 - val_merge_3_loss: 0.2345 - val_merge_4_loss: 0.1793 - val_merge_3_acc: 0.6266 - val_merge_4_acc: 0.2130\n",
      "Epoch 23/50\n",
      "500000/500000 [==============================] - 6s 12us/step - loss: 0.3718 - merge_3_loss: 0.2004 - merge_4_loss: 0.1715 - merge_3_acc: 0.6846 - merge_4_acc: 0.2281 - val_loss: 0.4142 - val_merge_3_loss: 0.2354 - val_merge_4_loss: 0.1788 - val_merge_3_acc: 0.6240 - val_merge_4_acc: 0.2168\n",
      "Epoch 24/50\n",
      "500000/500000 [==============================] - 6s 12us/step - loss: 0.3709 - merge_3_loss: 0.1996 - merge_4_loss: 0.1714 - merge_3_acc: 0.6866 - merge_4_acc: 0.2285 - val_loss: 0.4145 - val_merge_3_loss: 0.2335 - val_merge_4_loss: 0.1810 - val_merge_3_acc: 0.6326 - val_merge_4_acc: 0.2142\n",
      "Epoch 25/50\n",
      "500000/500000 [==============================] - 6s 12us/step - loss: 0.3702 - merge_3_loss: 0.1990 - merge_4_loss: 0.1712 - merge_3_acc: 0.6879 - merge_4_acc: 0.2282 - val_loss: 0.4147 - val_merge_3_loss: 0.2346 - val_merge_4_loss: 0.1801 - val_merge_3_acc: 0.6302 - val_merge_4_acc: 0.2164\n",
      "Epoch 26/50\n",
      "500000/500000 [==============================] - 6s 13us/step - loss: 0.3694 - merge_3_loss: 0.1984 - merge_4_loss: 0.1711 - merge_3_acc: 0.6891 - merge_4_acc: 0.2285 - val_loss: 0.4148 - val_merge_3_loss: 0.2355 - val_merge_4_loss: 0.1793 - val_merge_3_acc: 0.6286 - val_merge_4_acc: 0.2168\n",
      "Epoch 27/50\n",
      "500000/500000 [==============================] - 6s 12us/step - loss: 0.3688 - merge_3_loss: 0.1978 - merge_4_loss: 0.1710 - merge_3_acc: 0.6903 - merge_4_acc: 0.2285 - val_loss: 0.4154 - val_merge_3_loss: 0.2371 - val_merge_4_loss: 0.1783 - val_merge_3_acc: 0.6220 - val_merge_4_acc: 0.2156\n"
     ]
    },
    {
     "name": "stdout",
     "output_type": "stream",
     "text": [
      "Epoch 28/50\n",
      "500000/500000 [==============================] - 6s 12us/step - loss: 0.3682 - merge_3_loss: 0.1973 - merge_4_loss: 0.1709 - merge_3_acc: 0.6914 - merge_4_acc: 0.2284 - val_loss: 0.4157 - val_merge_3_loss: 0.2349 - val_merge_4_loss: 0.1807 - val_merge_3_acc: 0.6316 - val_merge_4_acc: 0.2138\n",
      "Epoch 29/50\n",
      "500000/500000 [==============================] - 6s 12us/step - loss: 0.3676 - merge_3_loss: 0.1969 - merge_4_loss: 0.1708 - merge_3_acc: 0.6926 - merge_4_acc: 0.2284 - val_loss: 0.4155 - val_merge_3_loss: 0.2361 - val_merge_4_loss: 0.1794 - val_merge_3_acc: 0.6276 - val_merge_4_acc: 0.2120\n",
      "Epoch 30/50\n",
      "500000/500000 [==============================] - 6s 12us/step - loss: 0.3671 - merge_3_loss: 0.1963 - merge_4_loss: 0.1708 - merge_3_acc: 0.6938 - merge_4_acc: 0.2285 - val_loss: 0.4162 - val_merge_3_loss: 0.2373 - val_merge_4_loss: 0.1789 - val_merge_3_acc: 0.6242 - val_merge_4_acc: 0.2108\n",
      "Epoch 31/50\n",
      "500000/500000 [==============================] - 6s 11us/step - loss: 0.3666 - merge_3_loss: 0.1960 - merge_4_loss: 0.1707 - merge_3_acc: 0.6944 - merge_4_acc: 0.2285 - val_loss: 0.4163 - val_merge_3_loss: 0.2367 - val_merge_4_loss: 0.1796 - val_merge_3_acc: 0.6294 - val_merge_4_acc: 0.2134\n",
      "Epoch 32/50\n",
      "500000/500000 [==============================] - 6s 11us/step - loss: 0.3662 - merge_3_loss: 0.1955 - merge_4_loss: 0.1707 - merge_3_acc: 0.6955 - merge_4_acc: 0.2285 - val_loss: 0.4172 - val_merge_3_loss: 0.2380 - val_merge_4_loss: 0.1792 - val_merge_3_acc: 0.6260 - val_merge_4_acc: 0.2114\n",
      "Epoch 33/50\n",
      "500000/500000 [==============================] - 6s 12us/step - loss: 0.3658 - merge_3_loss: 0.1952 - merge_4_loss: 0.1706 - merge_3_acc: 0.6961 - merge_4_acc: 0.2284 - val_loss: 0.4175 - val_merge_3_loss: 0.2388 - val_merge_4_loss: 0.1787 - val_merge_3_acc: 0.6256 - val_merge_4_acc: 0.2126\n",
      "Epoch 34/50\n",
      "500000/500000 [==============================] - 7s 13us/step - loss: 0.3654 - merge_3_loss: 0.1949 - merge_4_loss: 0.1706 - merge_3_acc: 0.6966 - merge_4_acc: 0.2286 - val_loss: 0.4176 - val_merge_3_loss: 0.2369 - val_merge_4_loss: 0.1807 - val_merge_3_acc: 0.6286 - val_merge_4_acc: 0.2130\n",
      "Epoch 35/50\n",
      "500000/500000 [==============================] - 7s 13us/step - loss: 0.3651 - merge_3_loss: 0.1945 - merge_4_loss: 0.1706 - merge_3_acc: 0.6976 - merge_4_acc: 0.2284 - val_loss: 0.4185 - val_merge_3_loss: 0.2380 - val_merge_4_loss: 0.1805 - val_merge_3_acc: 0.6284 - val_merge_4_acc: 0.2110\n",
      "Epoch 36/50\n",
      "500000/500000 [==============================] - 6s 11us/step - loss: 0.3648 - merge_3_loss: 0.1942 - merge_4_loss: 0.1705 - merge_3_acc: 0.6981 - merge_4_acc: 0.2285 - val_loss: 0.4187 - val_merge_3_loss: 0.2395 - val_merge_4_loss: 0.1791 - val_merge_3_acc: 0.6264 - val_merge_4_acc: 0.2128\n",
      "Epoch 37/50\n",
      "500000/500000 [==============================] - 8s 16us/step - loss: 0.3645 - merge_3_loss: 0.1940 - merge_4_loss: 0.1705 - merge_3_acc: 0.6986 - merge_4_acc: 0.2285 - val_loss: 0.4193 - val_merge_3_loss: 0.2399 - val_merge_4_loss: 0.1794 - val_merge_3_acc: 0.6254 - val_merge_4_acc: 0.2106\n",
      "Epoch 38/50\n",
      "500000/500000 [==============================] - 6s 12us/step - loss: 0.3642 - merge_3_loss: 0.1937 - merge_4_loss: 0.1705 - merge_3_acc: 0.6993 - merge_4_acc: 0.2287 - val_loss: 0.4194 - val_merge_3_loss: 0.2381 - val_merge_4_loss: 0.1813 - val_merge_3_acc: 0.6316 - val_merge_4_acc: 0.2120\n",
      "Epoch 39/50\n",
      "500000/500000 [==============================] - 7s 15us/step - loss: 0.3640 - merge_3_loss: 0.1935 - merge_4_loss: 0.1705 - merge_3_acc: 0.6999 - merge_4_acc: 0.2289 - val_loss: 0.4196 - val_merge_3_loss: 0.2375 - val_merge_4_loss: 0.1821 - val_merge_3_acc: 0.6366 - val_merge_4_acc: 0.2148\n",
      "Epoch 40/50\n",
      "500000/500000 [==============================] - 9s 19us/step - loss: 0.3637 - merge_3_loss: 0.1932 - merge_4_loss: 0.1705 - merge_3_acc: 0.7001 - merge_4_acc: 0.2286 - val_loss: 0.4206 - val_merge_3_loss: 0.2410 - val_merge_4_loss: 0.1797 - val_merge_3_acc: 0.6234 - val_merge_4_acc: 0.2134\n",
      "Epoch 41/50\n",
      "500000/500000 [==============================] - 6s 11us/step - loss: 0.3635 - merge_3_loss: 0.1931 - merge_4_loss: 0.1704 - merge_3_acc: 0.7010 - merge_4_acc: 0.2284 - val_loss: 0.4205 - val_merge_3_loss: 0.2398 - val_merge_4_loss: 0.1806 - val_merge_3_acc: 0.6282 - val_merge_4_acc: 0.2126\n",
      "Epoch 42/50\n",
      "500000/500000 [==============================] - 6s 12us/step - loss: 0.3633 - merge_3_loss: 0.1928 - merge_4_loss: 0.1705 - merge_3_acc: 0.7012 - merge_4_acc: 0.2287 - val_loss: 0.4211 - val_merge_3_loss: 0.2407 - val_merge_4_loss: 0.1804 - val_merge_3_acc: 0.6272 - val_merge_4_acc: 0.2150\n",
      "Epoch 43/50\n",
      "500000/500000 [==============================] - 7s 15us/step - loss: 0.3631 - merge_3_loss: 0.1927 - merge_4_loss: 0.1704 - merge_3_acc: 0.7016 - merge_4_acc: 0.2286 - val_loss: 0.4216 - val_merge_3_loss: 0.2417 - val_merge_4_loss: 0.1799 - val_merge_3_acc: 0.6270 - val_merge_4_acc: 0.2166\n",
      "Epoch 44/50\n",
      "500000/500000 [==============================] - 7s 14us/step - loss: 0.3629 - merge_3_loss: 0.1925 - merge_4_loss: 0.1704 - merge_3_acc: 0.7022 - merge_4_acc: 0.2286 - val_loss: 0.4220 - val_merge_3_loss: 0.2384 - val_merge_4_loss: 0.1836 - val_merge_3_acc: 0.6348 - val_merge_4_acc: 0.2158\n",
      "Epoch 45/50\n",
      "500000/500000 [==============================] - 6s 11us/step - loss: 0.3628 - merge_3_loss: 0.1923 - merge_4_loss: 0.1705 - merge_3_acc: 0.7029 - merge_4_acc: 0.2285 - val_loss: 0.4226 - val_merge_3_loss: 0.2401 - val_merge_4_loss: 0.1825 - val_merge_3_acc: 0.6322 - val_merge_4_acc: 0.2146\n",
      "Epoch 46/50\n",
      "500000/500000 [==============================] - 6s 12us/step - loss: 0.3626 - merge_3_loss: 0.1920 - merge_4_loss: 0.1705 - merge_3_acc: 0.7031 - merge_4_acc: 0.2285 - val_loss: 0.4230 - val_merge_3_loss: 0.2429 - val_merge_4_loss: 0.1801 - val_merge_3_acc: 0.6246 - val_merge_4_acc: 0.2150\n",
      "Epoch 47/50\n",
      "500000/500000 [==============================] - 7s 14us/step - loss: 0.3625 - merge_3_loss: 0.1920 - merge_4_loss: 0.1704 - merge_3_acc: 0.7032 - merge_4_acc: 0.2287 - val_loss: 0.4231 - val_merge_3_loss: 0.2418 - val_merge_4_loss: 0.1813 - val_merge_3_acc: 0.6282 - val_merge_4_acc: 0.2166\n",
      "Epoch 48/50\n",
      "500000/500000 [==============================] - 6s 13us/step - loss: 0.3623 - merge_3_loss: 0.1919 - merge_4_loss: 0.1705 - merge_3_acc: 0.7037 - merge_4_acc: 0.2286 - val_loss: 0.4240 - val_merge_3_loss: 0.2418 - val_merge_4_loss: 0.1822 - val_merge_3_acc: 0.6254 - val_merge_4_acc: 0.2142\n",
      "Epoch 49/50\n",
      "500000/500000 [==============================] - 7s 13us/step - loss: 0.3622 - merge_3_loss: 0.1917 - merge_4_loss: 0.1705 - merge_3_acc: 0.7039 - merge_4_acc: 0.2285 - val_loss: 0.4239 - val_merge_3_loss: 0.2418 - val_merge_4_loss: 0.1821 - val_merge_3_acc: 0.6292 - val_merge_4_acc: 0.2182\n",
      "Epoch 50/50\n",
      "500000/500000 [==============================] - 6s 13us/step - loss: 0.3621 - merge_3_loss: 0.1916 - merge_4_loss: 0.1705 - merge_3_acc: 0.7042 - merge_4_acc: 0.2284 - val_loss: 0.4245 - val_merge_3_loss: 0.2425 - val_merge_4_loss: 0.1820 - val_merge_3_acc: 0.6272 - val_merge_4_acc: 0.2156\n"
     ]
    },
    {
     "data": {
      "text/plain": [
       "<keras.callbacks.History at 0x11f7889e8>"
      ]
     },
     "execution_count": 14,
     "metadata": {},
     "output_type": "execute_result"
    }
   ],
   "source": [
    "tensorboard = TensorBoard(log_dir='./logs/wordvec', \n",
    "batch_size=500, histogram_freq=1, write_images=True, write_grads=False, write_graph=True, embeddings_freq=1)\n",
    "\n",
    "model_checkpoint = ModelCheckpoint('./logs/wordvec_model.h5')\n",
    "\n",
    "model.fit(X,Y,epochs=50,batch_size=500,callbacks=[model_checkpoint,tensorboard], validation_data=(vX,vY))"
   ]
  },
  {
   "cell_type": "code",
   "execution_count": null,
   "metadata": {},
   "outputs": [],
   "source": []
  }
 ],
 "metadata": {
  "kernelspec": {
   "display_name": "nlp",
   "language": "python",
   "name": "nlp"
  },
  "language_info": {
   "codemirror_mode": {
    "name": "ipython",
    "version": 3
   },
   "file_extension": ".py",
   "mimetype": "text/x-python",
   "name": "python",
   "nbconvert_exporter": "python",
   "pygments_lexer": "ipython3",
   "version": "3.6.4"
  }
 },
 "nbformat": 4,
 "nbformat_minor": 2
}
