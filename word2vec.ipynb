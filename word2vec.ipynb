{
 "cells": [
  {
   "cell_type": "code",
   "execution_count": 1,
   "metadata": {},
   "outputs": [
    {
     "name": "stderr",
     "output_type": "stream",
     "text": [
      "/Applications/anaconda/envs/nlp/lib/python3.6/importlib/_bootstrap.py:219: RuntimeWarning: compiletime version 3.5 of module 'tensorflow.python.framework.fast_tensor_util' does not match runtime version 3.6\n",
      "  return f(*args, **kwds)\n",
      "Using TensorFlow backend.\n"
     ]
    }
   ],
   "source": [
    "import os\n",
    "import urllib.request\n",
    "import numpy as np\n",
    "import zipfile\n",
    "import tensorflow as tf\n",
    "import collections\n",
    "import random\n",
    "import h5py as h5py\n",
    "\n",
    "\n",
    "from keras.models import Sequential,Model\n",
    "from keras.optimizers import RMSprop\n",
    "from keras.layers import Embedding,LSTM,Dense,Lambda,merge,Input\n",
    "from keras.callbacks import TensorBoard,ModelCheckpoint,Callback\n",
    "from keras import backend as K"
   ]
  },
  {
   "cell_type": "code",
   "execution_count": 2,
   "metadata": {},
   "outputs": [],
   "source": [
    "url = 'http://mattmahoney.net/dc/'\n",
    "\n",
    "def maybe_download(filename):\n",
    "  \"\"\"Download a file if not present, and make sure it's the right size.\"\"\"\n",
    "  if not os.path.exists(\"./downloads/\"+filename):\n",
    "    filename, _ = urllib.request.urlretrieve(url + filename, \"./downloads/\"+filename)\n",
    "  return filename\n",
    "\n",
    "def read_data(filename):\n",
    "  \"\"\"Extract the first file enclosed in a zip file as a list of words.\"\"\"\n",
    "  with zipfile.ZipFile(\"./downloads/\"+filename) as f:\n",
    "    data = tf.compat.as_str(f.read(f.namelist()[0])).split()\n",
    "  return data\n",
    "\n",
    "def build_dataset(words, n_words):\n",
    "  \"\"\"Process raw inputs into a dataset.\"\"\"\n",
    "  count = [['UNK', -1]]\n",
    "  count.extend(collections.Counter(words).most_common(n_words - 1))\n",
    "  dictionary = dict()\n",
    "  for word, _ in count:\n",
    "    dictionary[word] = len(dictionary)\n",
    "  data = list()\n",
    "  unk_count = 0\n",
    "  for word in words:\n",
    "    if word in dictionary:\n",
    "      index = dictionary[word]\n",
    "    else:\n",
    "      index = 0  # dictionary['UNK']\n",
    "      unk_count += 1\n",
    "    data.append(index)\n",
    "  count[0][1] = unk_count\n",
    "  reversed_dictionary = dict(zip(dictionary.values(), dictionary.keys()))\n",
    "  return data, count, dictionary, reversed_dictionary\n",
    "\n",
    "# Step 3: Function to generate a training batch for the skip-gram model.\n",
    "\n",
    "filename = maybe_download('text8.zip')"
   ]
  },
  {
   "cell_type": "code",
   "execution_count": 3,
   "metadata": {},
   "outputs": [
    {
     "name": "stdout",
     "output_type": "stream",
     "text": [
      "Number of words:  17005207\n"
     ]
    }
   ],
   "source": [
    "vocabulary = read_data(filename)\n",
    "print('Number of words: ', len(vocabulary))\n",
    "\n",
    "def generate_batches(data, size, contextWidth, negativeSize):\n",
    "  cHalfWidth = int(contextWidth/2)\n",
    "  words = []\n",
    "  contexts = []\n",
    "  negatives = []\n",
    "  index = random.sample(range(cHalfWidth,len(data)-cHalfWidth),size)\n",
    "  for z in index:\n",
    "      context = []\n",
    "      for m in range(-cHalfWidth,cHalfWidth+1):\n",
    "        if m == 0:\n",
    "          words.append([data[z]])\n",
    "        else: \n",
    "          context.append(data[z+m])\n",
    "      contexts.append(context)\n",
    "      negatives.append(random.sample(data,negativeSize))\n",
    "  return([np.array(words),np.array(contexts),np.array(negatives)],[np.array([1]*size),np.array([[0]*negativeSize]*size)])"
   ]
  },
  {
   "cell_type": "code",
   "execution_count": 4,
   "metadata": {},
   "outputs": [],
   "source": [
    "vocabulary_size = 5000\n",
    "data_index = 0\n",
    "batch_size = 128\n",
    "wordvec_dim = 32\n",
    "embedding_size = 128  # Dimension of the embedding vector.\n",
    "skip_window = 3       # How many words to consider left and right.\n",
    "num_skips = 4         # How many times to reuse an input to generate a label.\n",
    "context_half = 3\n",
    "context_size = context_half*2\n",
    "\n",
    "valid_size = 16     # Random set of words to evaluate similarity on.\n",
    "valid_window = 100  # Only pick dev samples in the head of the distribution.\n",
    "valid_examples = np.random.choice(valid_window, valid_size, replace=False)\n",
    "neg_size = 5    # Number of negative examples to sample.\n",
    "\n",
    "\n"
   ]
  },
  {
   "cell_type": "code",
   "execution_count": null,
   "metadata": {},
   "outputs": [],
   "source": [
    "data, count, dictionary, reverse_dictionary = build_dataset(vocabulary,vocabulary_size)\n",
    "del vocabulary  # Hint to reduce memory.\n",
    "\n"
   ]
  },
  {
   "cell_type": "code",
   "execution_count": null,
   "metadata": {},
   "outputs": [
    {
     "name": "stderr",
     "output_type": "stream",
     "text": [
      "/Applications/anaconda/envs/nlp/lib/python3.6/site-packages/ipykernel_launcher.py:15: UserWarning: The `merge` function is deprecated and will be removed after 08/2017. Use instead layers from `keras.layers.merge`, e.g. `add`, `concatenate`, etc.\n",
      "  from ipykernel import kernelapp as app\n",
      "/Applications/anaconda/envs/nlp/lib/python3.6/site-packages/keras/legacy/layers.py:458: UserWarning: The `Merge` layer is deprecated and will be removed after 08/2017. Use instead layers from `keras.layers.merge`, e.g. `add`, `concatenate`, etc.\n",
      "  name=name)\n",
      "/Applications/anaconda/envs/nlp/lib/python3.6/site-packages/ipykernel_launcher.py:16: UserWarning: The `merge` function is deprecated and will be removed after 08/2017. Use instead layers from `keras.layers.merge`, e.g. `add`, `concatenate`, etc.\n",
      "  app.launch_new_instance()\n",
      "/Applications/anaconda/envs/nlp/lib/python3.6/site-packages/ipykernel_launcher.py:18: UserWarning: Update your `Model` call to the Keras 2 API: `Model(inputs=[<tf.Tenso..., outputs=[<tf.Tenso...)`\n"
     ]
    },
    {
     "name": "stdout",
     "output_type": "stream",
     "text": [
      "Train on 500000 samples, validate on 5000 samples\n",
      "Epoch 1/50\n",
      "500000/500000 [==============================] - 6s 11us/step - loss: 0.5484 - merge_1_loss: 0.3796 - merge_2_loss: 0.1688 - merge_1_acc: 0.3976 - merge_2_acc: 0.2317 - val_loss: 0.4821 - val_merge_1_loss: 0.2839 - val_merge_2_loss: 0.1982 - val_merge_1_acc: 0.5208 - val_merge_2_acc: 0.2262\n",
      "Epoch 2/50\n",
      "500000/500000 [==============================] - 6s 12us/step - loss: 0.4701 - merge_1_loss: 0.2741 - merge_2_loss: 0.1960 - merge_1_acc: 0.5188 - merge_2_acc: 0.2274 - val_loss: 0.4622 - val_merge_1_loss: 0.2688 - val_merge_2_loss: 0.1935 - val_merge_1_acc: 0.5196 - val_merge_2_acc: 0.2308\n",
      "Epoch 3/50\n",
      "500000/500000 [==============================] - 6s 12us/step - loss: 0.4537 - merge_1_loss: 0.2609 - merge_2_loss: 0.1928 - merge_1_acc: 0.5404 - merge_2_acc: 0.2271 - val_loss: 0.4502 - val_merge_1_loss: 0.2580 - val_merge_2_loss: 0.1922 - val_merge_1_acc: 0.5466 - val_merge_2_acc: 0.2314\n",
      "Epoch 4/50\n",
      "500000/500000 [==============================] - 7s 14us/step - loss: 0.4412 - merge_1_loss: 0.2518 - merge_2_loss: 0.1893 - merge_1_acc: 0.5595 - merge_2_acc: 0.2276 - val_loss: 0.4405 - val_merge_1_loss: 0.2518 - val_merge_2_loss: 0.1887 - val_merge_1_acc: 0.5552 - val_merge_2_acc: 0.2296\n",
      "Epoch 5/50\n",
      "500000/500000 [==============================] - 6s 12us/step - loss: 0.4307 - merge_1_loss: 0.2442 - merge_2_loss: 0.1865 - merge_1_acc: 0.5780 - merge_2_acc: 0.2272 - val_loss: 0.4339 - val_merge_1_loss: 0.2467 - val_merge_2_loss: 0.1873 - val_merge_1_acc: 0.5754 - val_merge_2_acc: 0.2286\n",
      "Epoch 6/50\n",
      "500000/500000 [==============================] - 7s 14us/step - loss: 0.4219 - merge_1_loss: 0.2376 - merge_2_loss: 0.1842 - merge_1_acc: 0.5941 - merge_2_acc: 0.2279 - val_loss: 0.4279 - val_merge_1_loss: 0.2426 - val_merge_2_loss: 0.1853 - val_merge_1_acc: 0.5832 - val_merge_2_acc: 0.2272\n",
      "Epoch 7/50\n",
      "500000/500000 [==============================] - 7s 13us/step - loss: 0.4147 - merge_1_loss: 0.2324 - merge_2_loss: 0.1823 - merge_1_acc: 0.6078 - merge_2_acc: 0.2281 - val_loss: 0.4233 - val_merge_1_loss: 0.2418 - val_merge_2_loss: 0.1815 - val_merge_1_acc: 0.5818 - val_merge_2_acc: 0.2234\n",
      "Epoch 8/50\n",
      "500000/500000 [==============================] - 7s 14us/step - loss: 0.4085 - merge_1_loss: 0.2277 - merge_2_loss: 0.1807 - merge_1_acc: 0.6194 - merge_2_acc: 0.2278 - val_loss: 0.4197 - val_merge_1_loss: 0.2378 - val_merge_2_loss: 0.1819 - val_merge_1_acc: 0.5970 - val_merge_2_acc: 0.2278\n",
      "Epoch 9/50\n",
      "500000/500000 [==============================] - 7s 14us/step - loss: 0.4033 - merge_1_loss: 0.2239 - merge_2_loss: 0.1794 - merge_1_acc: 0.6287 - merge_2_acc: 0.2279 - val_loss: 0.4168 - val_merge_1_loss: 0.2367 - val_merge_2_loss: 0.1801 - val_merge_1_acc: 0.6004 - val_merge_2_acc: 0.2320\n",
      "Epoch 10/50\n",
      "500000/500000 [==============================] - 6s 13us/step - loss: 0.3988 - merge_1_loss: 0.2206 - merge_2_loss: 0.1781 - merge_1_acc: 0.6372 - merge_2_acc: 0.2282 - val_loss: 0.4142 - val_merge_1_loss: 0.2367 - val_merge_2_loss: 0.1775 - val_merge_1_acc: 0.6000 - val_merge_2_acc: 0.2282\n",
      "Epoch 11/50\n",
      "500000/500000 [==============================] - 7s 14us/step - loss: 0.3949 - merge_1_loss: 0.2178 - merge_2_loss: 0.1770 - merge_1_acc: 0.6438 - merge_2_acc: 0.2285 - val_loss: 0.4127 - val_merge_1_loss: 0.2347 - val_merge_2_loss: 0.1780 - val_merge_1_acc: 0.6114 - val_merge_2_acc: 0.2298\n",
      "Epoch 12/50\n",
      "500000/500000 [==============================] - 7s 14us/step - loss: 0.3915 - merge_1_loss: 0.2154 - merge_2_loss: 0.1760 - merge_1_acc: 0.6501 - merge_2_acc: 0.2286 - val_loss: 0.4111 - val_merge_1_loss: 0.2323 - val_merge_2_loss: 0.1788 - val_merge_1_acc: 0.6162 - val_merge_2_acc: 0.2278\n",
      "Epoch 13/50\n",
      "500000/500000 [==============================] - 6s 12us/step - loss: 0.3885 - merge_1_loss: 0.2132 - merge_2_loss: 0.1753 - merge_1_acc: 0.6549 - merge_2_acc: 0.2283 - val_loss: 0.4103 - val_merge_1_loss: 0.2304 - val_merge_2_loss: 0.1799 - val_merge_1_acc: 0.6246 - val_merge_2_acc: 0.2282\n",
      "Epoch 14/50\n",
      "500000/500000 [==============================] - 7s 14us/step - loss: 0.3859 - merge_1_loss: 0.2114 - merge_2_loss: 0.1746 - merge_1_acc: 0.6593 - merge_2_acc: 0.2282 - val_loss: 0.4094 - val_merge_1_loss: 0.2320 - val_merge_2_loss: 0.1774 - val_merge_1_acc: 0.6182 - val_merge_2_acc: 0.2268\n",
      "Epoch 15/50\n",
      "500000/500000 [==============================] - 6s 13us/step - loss: 0.3836 - merge_1_loss: 0.2096 - merge_2_loss: 0.1739 - merge_1_acc: 0.6637 - merge_2_acc: 0.2285 - val_loss: 0.4088 - val_merge_1_loss: 0.2323 - val_merge_2_loss: 0.1765 - val_merge_1_acc: 0.6192 - val_merge_2_acc: 0.2298\n",
      "Epoch 16/50\n",
      "500000/500000 [==============================] - 8s 16us/step - loss: 0.3815 - merge_1_loss: 0.2081 - merge_2_loss: 0.1734 - merge_1_acc: 0.6670 - merge_2_acc: 0.2282 - val_loss: 0.4087 - val_merge_1_loss: 0.2316 - val_merge_2_loss: 0.1771 - val_merge_1_acc: 0.6222 - val_merge_2_acc: 0.2318\n",
      "Epoch 17/50\n",
      "500000/500000 [==============================] - 7s 15us/step - loss: 0.3797 - merge_1_loss: 0.2067 - merge_2_loss: 0.1730 - merge_1_acc: 0.6700 - merge_2_acc: 0.2282 - val_loss: 0.4086 - val_merge_1_loss: 0.2348 - val_merge_2_loss: 0.1737 - val_merge_1_acc: 0.6122 - val_merge_2_acc: 0.2290\n",
      "Epoch 18/50\n",
      "500000/500000 [==============================] - 9s 18us/step - loss: 0.3781 - merge_1_loss: 0.2056 - merge_2_loss: 0.1725 - merge_1_acc: 0.6730 - merge_2_acc: 0.2287 - val_loss: 0.4084 - val_merge_1_loss: 0.2338 - val_merge_2_loss: 0.1746 - val_merge_1_acc: 0.6130 - val_merge_2_acc: 0.2302\n",
      "Epoch 19/50\n",
      "500000/500000 [==============================] - 9s 18us/step - loss: 0.3766 - merge_1_loss: 0.2044 - merge_2_loss: 0.1722 - merge_1_acc: 0.6754 - merge_2_acc: 0.2283 - val_loss: 0.4087 - val_merge_1_loss: 0.2341 - val_merge_2_loss: 0.1746 - val_merge_1_acc: 0.6162 - val_merge_2_acc: 0.2290\n",
      "Epoch 20/50\n",
      "500000/500000 [==============================] - 7s 15us/step - loss: 0.3753 - merge_1_loss: 0.2035 - merge_2_loss: 0.1718 - merge_1_acc: 0.6776 - merge_2_acc: 0.2284 - val_loss: 0.4082 - val_merge_1_loss: 0.2317 - val_merge_2_loss: 0.1765 - val_merge_1_acc: 0.6254 - val_merge_2_acc: 0.2290\n",
      "Epoch 21/50\n",
      "500000/500000 [==============================] - 6s 11us/step - loss: 0.3741 - merge_1_loss: 0.2025 - merge_2_loss: 0.1716 - merge_1_acc: 0.6800 - merge_2_acc: 0.2285 - val_loss: 0.4090 - val_merge_1_loss: 0.2331 - val_merge_2_loss: 0.1759 - val_merge_1_acc: 0.6200 - val_merge_2_acc: 0.2274\n",
      "Epoch 22/50\n",
      "500000/500000 [==============================] - 6s 11us/step - loss: 0.3731 - merge_1_loss: 0.2016 - merge_2_loss: 0.1715 - merge_1_acc: 0.6820 - merge_2_acc: 0.2287 - val_loss: 0.4091 - val_merge_1_loss: 0.2343 - val_merge_2_loss: 0.1748 - val_merge_1_acc: 0.6170 - val_merge_2_acc: 0.2324\n",
      "Epoch 23/50\n",
      "500000/500000 [==============================] - 5s 11us/step - loss: 0.3721 - merge_1_loss: 0.2010 - merge_2_loss: 0.1711 - merge_1_acc: 0.6834 - merge_2_acc: 0.2288 - val_loss: 0.4092 - val_merge_1_loss: 0.2319 - val_merge_2_loss: 0.1773 - val_merge_1_acc: 0.6264 - val_merge_2_acc: 0.2300\n",
      "Epoch 24/50\n",
      "500000/500000 [==============================] - 5s 11us/step - loss: 0.3712 - merge_1_loss: 0.2003 - merge_2_loss: 0.1710 - merge_1_acc: 0.6851 - merge_2_acc: 0.2286 - val_loss: 0.4095 - val_merge_1_loss: 0.2338 - val_merge_2_loss: 0.1758 - val_merge_1_acc: 0.6232 - val_merge_2_acc: 0.2284\n",
      "Epoch 25/50\n",
      "500000/500000 [==============================] - 5s 11us/step - loss: 0.3704 - merge_1_loss: 0.1996 - merge_2_loss: 0.1708 - merge_1_acc: 0.6861 - merge_2_acc: 0.2288 - val_loss: 0.4101 - val_merge_1_loss: 0.2328 - val_merge_2_loss: 0.1773 - val_merge_1_acc: 0.6260 - val_merge_2_acc: 0.2260\n",
      "Epoch 26/50\n",
      "500000/500000 [==============================] - 5s 11us/step - loss: 0.3697 - merge_1_loss: 0.1990 - merge_2_loss: 0.1707 - merge_1_acc: 0.6875 - merge_2_acc: 0.2284 - val_loss: 0.4104 - val_merge_1_loss: 0.2345 - val_merge_2_loss: 0.1759 - val_merge_1_acc: 0.6210 - val_merge_2_acc: 0.2260\n",
      "Epoch 27/50\n",
      "500000/500000 [==============================] - 5s 11us/step - loss: 0.3690 - merge_1_loss: 0.1984 - merge_2_loss: 0.1705 - merge_1_acc: 0.6887 - merge_2_acc: 0.2288 - val_loss: 0.4110 - val_merge_1_loss: 0.2344 - val_merge_2_loss: 0.1766 - val_merge_1_acc: 0.6240 - val_merge_2_acc: 0.2250\n"
     ]
    },
    {
     "name": "stdout",
     "output_type": "stream",
     "text": [
      "Epoch 28/50\n",
      "500000/500000 [==============================] - 6s 13us/step - loss: 0.3683 - merge_1_loss: 0.1978 - merge_2_loss: 0.1705 - merge_1_acc: 0.6898 - merge_2_acc: 0.2286 - val_loss: 0.4111 - val_merge_1_loss: 0.2335 - val_merge_2_loss: 0.1776 - val_merge_1_acc: 0.6264 - val_merge_2_acc: 0.2266\n",
      "Epoch 29/50\n",
      "500000/500000 [==============================] - 7s 15us/step - loss: 0.3678 - merge_1_loss: 0.1973 - merge_2_loss: 0.1704 - merge_1_acc: 0.6913 - merge_2_acc: 0.2288 - val_loss: 0.4118 - val_merge_1_loss: 0.2360 - val_merge_2_loss: 0.1758 - val_merge_1_acc: 0.6212 - val_merge_2_acc: 0.2268\n",
      "Epoch 30/50\n",
      "500000/500000 [==============================] - 7s 14us/step - loss: 0.3672 - merge_1_loss: 0.1969 - merge_2_loss: 0.1703 - merge_1_acc: 0.6921 - merge_2_acc: 0.2288 - val_loss: 0.4120 - val_merge_1_loss: 0.2346 - val_merge_2_loss: 0.1773 - val_merge_1_acc: 0.6260 - val_merge_2_acc: 0.2222\n",
      "Epoch 31/50\n",
      "500000/500000 [==============================] - 7s 14us/step - loss: 0.3668 - merge_1_loss: 0.1966 - merge_2_loss: 0.1702 - merge_1_acc: 0.6931 - merge_2_acc: 0.2288 - val_loss: 0.4120 - val_merge_1_loss: 0.2355 - val_merge_2_loss: 0.1765 - val_merge_1_acc: 0.6212 - val_merge_2_acc: 0.2250\n",
      "Epoch 32/50\n",
      "500000/500000 [==============================] - 7s 15us/step - loss: 0.3663 - merge_1_loss: 0.1961 - merge_2_loss: 0.1702 - merge_1_acc: 0.6938 - merge_2_acc: 0.2287 - val_loss: 0.4125 - val_merge_1_loss: 0.2361 - val_merge_2_loss: 0.1764 - val_merge_1_acc: 0.6224 - val_merge_2_acc: 0.2234\n",
      "Epoch 33/50\n",
      "500000/500000 [==============================] - 7s 14us/step - loss: 0.3659 - merge_1_loss: 0.1957 - merge_2_loss: 0.1702 - merge_1_acc: 0.6945 - merge_2_acc: 0.2287 - val_loss: 0.4130 - val_merge_1_loss: 0.2364 - val_merge_2_loss: 0.1766 - val_merge_1_acc: 0.6196 - val_merge_2_acc: 0.2260\n",
      "Epoch 34/50\n",
      "366500/500000 [====================>.........] - ETA: 1s - loss: 0.3650 - merge_1_loss: 0.1949 - merge_2_loss: 0.1700 - merge_1_acc: 0.6971 - merge_2_acc: 0.2279"
     ]
    }
   ],
   "source": [
    "X,Y = generate_batches(data, 500000, context_size, neg_size)\n",
    "vX, vY = generate_batches(data, 5000, context_size, neg_size)\n",
    "\n",
    "word = Input(shape=(1,))\n",
    "context = Input(shape=(context_size,))\n",
    "negSamples = Input(shape=(neg_size,))\n",
    "\n",
    "word2vec = Embedding(input_dim=vocabulary_size,output_dim=wordvec_dim, embeddings_initializer='glorot_normal', name='word2vec')\n",
    "\n",
    "vec_word = word2vec(word)\n",
    "vec_context = word2vec(context)\n",
    "vec_negSamples = word2vec(negSamples)\n",
    "cbow = Lambda(lambda x: K.mean(x, axis=1))(vec_context)\n",
    "\n",
    "word_context = merge([vec_word, cbow], mode='dot')\n",
    "negative_context = merge([vec_negSamples, cbow], mode='dot', concat_axis=-1)\n",
    "\n",
    "model = Model(input=[word,context,negSamples], output=[word_context,negative_context])\n",
    "model.compile(optimizer='rmsprop', loss='mse', metrics=['accuracy'])\n",
    "#model.summary()\n",
    "tensorboard = TensorBoard(log_dir='./logs/wordvec', \n",
    "  batch_size=500, histogram_freq=1, write_images=True, write_grads=False, write_graph=True, embeddings_freq=1)\n",
    "model_checkpoint = ModelCheckpoint('./logs/model.hdf5')\n",
    "model.fit(X,Y,epochs=50,batch_size=500,callbacks=[model_checkpoint,tensorboard], validation_data=(vX,vY))\n"
   ]
  },
  {
   "cell_type": "code",
   "execution_count": null,
   "metadata": {},
   "outputs": [],
   "source": []
  }
 ],
 "metadata": {
  "kernelspec": {
   "display_name": "nlp",
   "language": "python",
   "name": "nlp"
  },
  "language_info": {
   "codemirror_mode": {
    "name": "ipython",
    "version": 3
   },
   "file_extension": ".py",
   "mimetype": "text/x-python",
   "name": "python",
   "nbconvert_exporter": "python",
   "pygments_lexer": "ipython3",
   "version": "3.6.4"
  }
 },
 "nbformat": 4,
 "nbformat_minor": 2
}
