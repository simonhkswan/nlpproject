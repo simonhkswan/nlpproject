{
 "cells": [
  {
   "cell_type": "code",
   "execution_count": 72,
   "metadata": {},
   "outputs": [],
   "source": [
    "import os\n",
    "import urllib.request\n",
    "import zipfile\n",
    "import xmltodict\n",
    "import untangle\n",
    "import xml.etree.ElementTree as ET"
   ]
  },
  {
   "cell_type": "code",
   "execution_count": 19,
   "metadata": {},
   "outputs": [],
   "source": [
    "dl_PATH = '../downloads/'"
   ]
  },
  {
   "cell_type": "code",
   "execution_count": 44,
   "metadata": {},
   "outputs": [],
   "source": [
    "def maybe_download(url, name):\n",
    "    \n",
    "    global dl_PATH\n",
    "    \n",
    "    if not os.path.exists(dl_PATH):\n",
    "        os.makedirs(dl_PATH)\n",
    "        \n",
    "    if os.path.isfile(dl_PATH+name):\n",
    "        print(name+' already downloaded.')\n",
    "    else:\n",
    "        try:\n",
    "            urllib.request.urlretrieve(url, dl_PATH+name)\n",
    "            print(name+' successfully downloaded.')\n",
    "        except:\n",
    "            print('Error downloading '+name+'.')\n",
    "        \n",
    "def maybe_unzip(zname):\n",
    "    global dl_PATH\n",
    "    \n",
    "    if not os.path.isfile(dl_PATH+zname):\n",
    "        with zipfile.ZipFile(dl_PATH+zname, 'r') as zipref:\n",
    "            zipref.extractall(dl_PATH)\n",
    "    else:\n",
    "        print(zname+' already unzipped.')"
   ]
  },
  {
   "cell_type": "code",
   "execution_count": 204,
   "metadata": {},
   "outputs": [
    {
     "name": "stdout",
     "output_type": "stream",
     "text": [
      "task1_train_bio.zip already downloaded.\n",
      "task1_train_bio.zip already unzipped.\n"
     ]
    }
   ],
   "source": [
    "maybe_download('http://rgai.inf.u-szeged.hu/~vinczev/conll2010st/task1_train_bio_rev2.zip', 'task1_train_bio.zip')\n",
    "maybe_unzip('task1_train_bio.zip') #'task1_train_bio_abstracts_rev2.xml' and 'task1_train_bio_fullarticles_rev2.xml'"
   ]
  },
  {
   "cell_type": "code",
   "execution_count": 290,
   "metadata": {},
   "outputs": [],
   "source": [
    "class TextData(object):\n",
    "    def __init__(self, xml):\n",
    "        with open(dl_PATH+xml) as fd:\n",
    "            self.ETree = ET.parse(fd)\n",
    "            \n",
    "    def totaldocNo(self):\n",
    "        return(len(self.get_documents()))\n",
    "        \n",
    "    def totsentNo(self):\n",
    "        N = 0\n",
    "        for doc in self.getdocuments():\n",
    "            N += len(doc[2][:])\n",
    "        return(N)\n",
    "    \n",
    "    def get_docs(self, start=None, stop=None):\n",
    "        return(self.ETree.getroot()[0][start:stop])\n",
    "    \n",
    "    def tosent(doc):\n",
    "        return(doc[2][:])"
   ]
  },
  {
   "cell_type": "code",
   "execution_count": 291,
   "metadata": {},
   "outputs": [],
   "source": [
    "data = TextData('task1_train_bio_abstracts_rev2.xml')    "
   ]
  },
  {
   "cell_type": "code",
   "execution_count": 292,
   "metadata": {
    "scrolled": true
   },
   "outputs": [
    {
     "name": "stdout",
     "output_type": "stream",
     "text": [
      "[<Element 'Document' at 0x000001F4C5A7D228>]\n"
     ]
    }
   ],
   "source": [
    "print(data.get_docs(0,1)[0])\n"
   ]
  },
  {
   "cell_type": "code",
   "execution_count": null,
   "metadata": {},
   "outputs": [],
   "source": []
  }
 ],
 "metadata": {
  "kernelspec": {
   "display_name": "nlpkern",
   "language": "python",
   "name": "nlpkern"
  },
  "language_info": {
   "codemirror_mode": {
    "name": "ipython",
    "version": 3
   },
   "file_extension": ".py",
   "mimetype": "text/x-python",
   "name": "python",
   "nbconvert_exporter": "python",
   "pygments_lexer": "ipython3",
   "version": "3.6.3"
  }
 },
 "nbformat": 4,
 "nbformat_minor": 2
}
