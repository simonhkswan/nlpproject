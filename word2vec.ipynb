{
 "cells": [
  {
   "cell_type": "markdown",
   "metadata": {},
   "source": [
    "## Word Vectorisation Notebook\n",
    "Below is the code used for generating various embeddings used in the neural models.\n",
    "\n",
    "### Imported libraries"
   ]
  },
  {
   "cell_type": "code",
   "execution_count": 4,
   "metadata": {},
   "outputs": [
    {
     "name": "stderr",
     "output_type": "stream",
     "text": [
      "/Applications/anaconda/envs/nlp/lib/python3.6/importlib/_bootstrap.py:219: RuntimeWarning: compiletime version 3.5 of module 'tensorflow.python.framework.fast_tensor_util' does not match runtime version 3.6\n",
      "  return f(*args, **kwds)\n",
      "Using TensorFlow backend.\n"
     ]
    }
   ],
   "source": [
    "import os\n",
    "import urllib.request\n",
    "import numpy as np\n",
    "import zipfile\n",
    "import tensorflow as tf\n",
    "import collections\n",
    "import random\n",
    "import h5py as h5py\n",
    "\n",
    "\n",
    "from keras.models import Sequential,Model\n",
    "from keras.optimizers import RMSprop\n",
    "from keras.layers import Embedding,LSTM,Dense,Lambda,merge,Input\n",
    "from keras.callbacks import TensorBoard,ModelCheckpoint,Callback\n",
    "from keras import backend as K"
   ]
  },
  {
   "cell_type": "markdown",
   "metadata": {},
   "source": [
    "### Functions defined\n",
    "**maybe_download(filename)**\n",
    "Download a file if not present.\n",
    "\n",
    "**read_data(filename)**\n",
    "Extract the first file enclosed in a zip file as a list of words.\n",
    "\n",
    "**build_dataset(words, n_words)**\n",
    "Process raw inputs into a dataset.\n",
    "\n",
    "**generate_batches(data, size, contextWidth, negativeSize)**\n",
    "Returns batches of input words with their contexts and a set of negative samples."
   ]
  },
  {
   "cell_type": "code",
   "execution_count": 5,
   "metadata": {},
   "outputs": [],
   "source": [
    "def maybe_download(url, filename):\n",
    "  \"\"\"Download a file if not present.\"\"\"\n",
    "  if not os.path.exists(\"./downloads/\"+filename):\n",
    "    filename, _ = urllib.request.urlretrieve(url + filename, \"./downloads/\"+filename)\n",
    "  return filename\n",
    "\n",
    "def read_data(filename):\n",
    "  \"\"\"Extract the first file enclosed in a zip file as a list of words.\"\"\"\n",
    "  with zipfile.ZipFile(\"./downloads/\"+filename) as f:\n",
    "    data = tf.compat.as_str(f.read(f.namelist()[0])).split()\n",
    "  return data\n",
    "\n",
    "def build_dataset(words, n_words):\n",
    "  \"\"\"Process raw inputs into a dataset.\"\"\"\n",
    "  count = [['UNK', -1]]\n",
    "  count.extend(collections.Counter(words).most_common(n_words - 1))\n",
    "  dictionary = dict()\n",
    "  for word, _ in count:\n",
    "    dictionary[word] = len(dictionary)\n",
    "  data = list()\n",
    "  unk_count = 0\n",
    "  for word in words:\n",
    "    if word in dictionary:\n",
    "      index = dictionary[word]\n",
    "    else:\n",
    "      index = 0  # dictionary['UNK']\n",
    "      unk_count += 1\n",
    "    data.append(index)\n",
    "  count[0][1] = unk_count\n",
    "  reversed_dictionary = dict(zip(dictionary.values(), dictionary.keys()))\n",
    "  return data, count, dictionary, reversed_dictionary\n",
    "\n",
    "def generate_batches(data, size, contextWidth, negativeSize):\n",
    "  cHalfWidth = int(contextWidth/2)\n",
    "  words = []\n",
    "  contexts = []\n",
    "  negatives = []\n",
    "  index = random.sample(range(cHalfWidth,len(data)-cHalfWidth),size)\n",
    "  for z in index:\n",
    "      context = []\n",
    "      for m in range(-cHalfWidth,cHalfWidth+1):\n",
    "        if m == 0:\n",
    "          words.append([data[z]])\n",
    "        else: \n",
    "          context.append(data[z+m])\n",
    "      contexts.append(context)\n",
    "      negatives.append(random.sample(data,negativeSize))\n",
    "  return([np.array(words),np.array(contexts),np.array(negatives)],[np.array([1]*size),np.array([[0]*negativeSize]*size)])"
   ]
  },
  {
   "cell_type": "markdown",
   "metadata": {},
   "source": [
    "### Downloading Wikipedia text database"
   ]
  },
  {
   "cell_type": "code",
   "execution_count": 6,
   "metadata": {},
   "outputs": [
    {
     "name": "stdout",
     "output_type": "stream",
     "text": [
      "Number of words:  17005207\n"
     ]
    }
   ],
   "source": [
    "filename = maybe_download('http://mattmahoney.net/dc/', 'text8.zip')\n",
    "vocabulary = read_data(filename)\n",
    "print('Number of words: ', len(vocabulary))"
   ]
  },
  {
   "cell_type": "markdown",
   "metadata": {},
   "source": [
    "### Parameters for skipgram model"
   ]
  },
  {
   "cell_type": "code",
   "execution_count": 7,
   "metadata": {},
   "outputs": [],
   "source": [
    "vocabulary_size = 5000\n",
    "data_index = 0\n",
    "batch_size = 128\n",
    "wordvec_dim = 32\n",
    "\n",
    "skip_window = 3       # How many words to consider left and right.\n",
    "num_skips = 4         # How many times to reuse an input to generate a label.\n",
    "context_half = 3\n",
    "context_size = context_half*2\n",
    "\n",
    "valid_size = 16     # Random set of words to evaluate similarity on.\n",
    "valid_window = 100  # Only pick dev samples in the head of the distribution.\n",
    "valid_examples = np.random.choice(valid_window, valid_size, replace=False)\n",
    "neg_size = 5    # Number of negative examples to sample.\n"
   ]
  },
  {
   "cell_type": "markdown",
   "metadata": {},
   "source": [
    "### Creating a dictionary and reverse dictionary for word embedding"
   ]
  },
  {
   "cell_type": "code",
   "execution_count": 8,
   "metadata": {},
   "outputs": [],
   "source": [
    "data, count, dictionary, reverse_dictionary = build_dataset(vocabulary,vocabulary_size)\n",
    "del vocabulary  # Hint to reduce memory."
   ]
  },
  {
   "cell_type": "markdown",
   "metadata": {},
   "source": [
    "### Saving a .tsv label file for viewing in TensorBoard"
   ]
  },
  {
   "cell_type": "code",
   "execution_count": 9,
   "metadata": {},
   "outputs": [],
   "source": [
    "with open('./logs/word2vec_label.tsv', 'w') as fr:\n",
    "    for i in range(vocabulary_size):\n",
    "        fr.write(reverse_dictionary[i]+'\\n')"
   ]
  },
  {
   "cell_type": "markdown",
   "metadata": {},
   "source": [
    "### Generate training/validation batches"
   ]
  },
  {
   "cell_type": "code",
   "execution_count": 10,
   "metadata": {},
   "outputs": [],
   "source": [
    "X,Y = generate_batches(data, 500000, context_size, neg_size)\n",
    "vX, vY = generate_batches(data, 5000, context_size, neg_size)"
   ]
  },
  {
   "cell_type": "markdown",
   "metadata": {},
   "source": [
    "### Definining neural model with Keras\n",
    "Graph of cbow neural model shown below.\n",
    "\n",
    "\n",
    "![Graph of cbow model](./images/cbowGraph.png)\n"
   ]
  },
  {
   "cell_type": "code",
   "execution_count": 14,
   "metadata": {},
   "outputs": [
    {
     "name": "stderr",
     "output_type": "stream",
     "text": [
      "/Applications/anaconda/envs/nlp/lib/python3.6/site-packages/ipykernel_launcher.py:12: UserWarning: The `merge` function is deprecated and will be removed after 08/2017. Use instead layers from `keras.layers.merge`, e.g. `add`, `concatenate`, etc.\n",
      "  if sys.path[0] == '':\n",
      "/Applications/anaconda/envs/nlp/lib/python3.6/site-packages/keras/legacy/layers.py:458: UserWarning: The `Merge` layer is deprecated and will be removed after 08/2017. Use instead layers from `keras.layers.merge`, e.g. `add`, `concatenate`, etc.\n",
      "  name=name)\n",
      "/Applications/anaconda/envs/nlp/lib/python3.6/site-packages/ipykernel_launcher.py:13: UserWarning: The `merge` function is deprecated and will be removed after 08/2017. Use instead layers from `keras.layers.merge`, e.g. `add`, `concatenate`, etc.\n",
      "  del sys.path[0]\n",
      "/Applications/anaconda/envs/nlp/lib/python3.6/site-packages/ipykernel_launcher.py:15: UserWarning: Update your `Model` call to the Keras 2 API: `Model(inputs=[<tf.Tenso..., outputs=[<tf.Tenso...)`\n",
      "  from ipykernel import kernelapp as app\n"
     ]
    }
   ],
   "source": [
    "word = Input(shape=(1,), name='inputWord')\n",
    "context = Input(shape=(context_size,), name='inputContext')\n",
    "negSamples = Input(shape=(neg_size,), name='inputNegatives')\n",
    "\n",
    "word2vec = Embedding(input_dim=vocabulary_size,output_dim=wordvec_dim, embeddings_initializer='glorot_normal', name='word2vec')\n",
    "\n",
    "vec_word = word2vec(word)\n",
    "vec_context = word2vec(context)\n",
    "vec_negSamples = word2vec(negSamples)\n",
    "cbow = Lambda(lambda x: K.mean(x, axis=1), name='cbowAverage')(vec_context)\n",
    "\n",
    "word_context = merge([vec_word, cbow], mode='dot')\n",
    "negative_context = merge([vec_negSamples, cbow], mode='dot', concat_axis=-1)\n",
    "\n",
    "model = Model(input=[word,context,negSamples], output=[word_context,negative_context])"
   ]
  },
  {
   "cell_type": "code",
   "execution_count": 12,
   "metadata": {},
   "outputs": [
    {
     "name": "stdout",
     "output_type": "stream",
     "text": [
      "__________________________________________________________________________________________________\n",
      "Layer (type)                    Output Shape         Param #     Connected to                     \n",
      "==================================================================================================\n",
      "inputWord (InputLayer)          (None, 1)            0                                            \n",
      "__________________________________________________________________________________________________\n",
      "inputContext (InputLayer)       (None, 6)            0                                            \n",
      "__________________________________________________________________________________________________\n",
      "word2vec (Embedding)            multiple             160000      inputWord[0][0]                  \n",
      "                                                                 inputContext[0][0]               \n",
      "                                                                 inputNegatives[0][0]             \n",
      "__________________________________________________________________________________________________\n",
      "inputNegatives (InputLayer)     (None, 5)            0                                            \n",
      "__________________________________________________________________________________________________\n",
      "cbowAverage (Lambda)            (None, 32)           0           word2vec[1][0]                   \n",
      "__________________________________________________________________________________________________\n",
      "merge_1 (Merge)                 (None, 1)            0           word2vec[0][0]                   \n",
      "                                                                 cbowAverage[0][0]                \n",
      "__________________________________________________________________________________________________\n",
      "merge_2 (Merge)                 (None, 5)            0           word2vec[2][0]                   \n",
      "                                                                 cbowAverage[0][0]                \n",
      "==================================================================================================\n",
      "Total params: 160,000\n",
      "Trainable params: 160,000\n",
      "Non-trainable params: 0\n",
      "__________________________________________________________________________________________________\n"
     ]
    }
   ],
   "source": [
    "model.compile(optimizer='rmsprop', loss='mse', metrics=['accuracy'])\n",
    "model.summary()"
   ]
  },
  {
   "cell_type": "markdown",
   "metadata": {},
   "source": [
    "### Create logs for saving parameters and run training"
   ]
  },
  {
   "cell_type": "code",
   "execution_count": 13,
   "metadata": {},
   "outputs": [
    {
     "name": "stdout",
     "output_type": "stream",
     "text": [
      "Train on 500000 samples, validate on 5000 samples\n",
      "Epoch 1/50\n",
      "500000/500000 [==============================] - 7s 13us/step - loss: 0.5458 - merge_1_loss: 0.3781 - merge_2_loss: 0.1677 - merge_1_acc: 0.4066 - merge_2_acc: 0.2316 - val_loss: 0.4843 - val_merge_1_loss: 0.2907 - val_merge_2_loss: 0.1936 - val_merge_1_acc: 0.4934 - val_merge_2_acc: 0.2272\n",
      "Epoch 2/50\n",
      "500000/500000 [==============================] - 7s 15us/step - loss: 0.4699 - merge_1_loss: 0.2734 - merge_2_loss: 0.1965 - merge_1_acc: 0.5208 - merge_2_acc: 0.2268 - val_loss: 0.4649 - val_merge_1_loss: 0.2673 - val_merge_2_loss: 0.1976 - val_merge_1_acc: 0.5320 - val_merge_2_acc: 0.2236\n",
      "Epoch 3/50\n",
      "500000/500000 [==============================] - 8s 16us/step - loss: 0.4544 - merge_1_loss: 0.2613 - merge_2_loss: 0.1931 - merge_1_acc: 0.5390 - merge_2_acc: 0.2266 - val_loss: 0.4532 - val_merge_1_loss: 0.2583 - val_merge_2_loss: 0.1949 - val_merge_1_acc: 0.5486 - val_merge_2_acc: 0.2240\n",
      "Epoch 4/50\n",
      "500000/500000 [==============================] - 6s 12us/step - loss: 0.4424 - merge_1_loss: 0.2526 - merge_2_loss: 0.1898 - merge_1_acc: 0.5588 - merge_2_acc: 0.2274 - val_loss: 0.4424 - val_merge_1_loss: 0.2507 - val_merge_2_loss: 0.1917 - val_merge_1_acc: 0.5664 - val_merge_2_acc: 0.2214\n",
      "Epoch 5/50\n",
      "500000/500000 [==============================] - 6s 12us/step - loss: 0.4319 - merge_1_loss: 0.2452 - merge_2_loss: 0.1868 - merge_1_acc: 0.5758 - merge_2_acc: 0.2275 - val_loss: 0.4337 - val_merge_1_loss: 0.2465 - val_merge_2_loss: 0.1873 - val_merge_1_acc: 0.5754 - val_merge_2_acc: 0.2250\n",
      "Epoch 6/50\n",
      "500000/500000 [==============================] - 6s 12us/step - loss: 0.4230 - merge_1_loss: 0.2388 - merge_2_loss: 0.1843 - merge_1_acc: 0.5908 - merge_2_acc: 0.2278 - val_loss: 0.4271 - val_merge_1_loss: 0.2407 - val_merge_2_loss: 0.1864 - val_merge_1_acc: 0.5888 - val_merge_2_acc: 0.2252\n",
      "Epoch 7/50\n",
      "500000/500000 [==============================] - 6s 12us/step - loss: 0.4155 - merge_1_loss: 0.2332 - merge_2_loss: 0.1823 - merge_1_acc: 0.6053 - merge_2_acc: 0.2283 - val_loss: 0.4225 - val_merge_1_loss: 0.2397 - val_merge_2_loss: 0.1828 - val_merge_1_acc: 0.5884 - val_merge_2_acc: 0.2198\n",
      "Epoch 8/50\n",
      "500000/500000 [==============================] - 6s 12us/step - loss: 0.4091 - merge_1_loss: 0.2285 - merge_2_loss: 0.1806 - merge_1_acc: 0.6174 - merge_2_acc: 0.2287 - val_loss: 0.4183 - val_merge_1_loss: 0.2353 - val_merge_2_loss: 0.1829 - val_merge_1_acc: 0.6052 - val_merge_2_acc: 0.2224\n",
      "Epoch 9/50\n",
      "500000/500000 [==============================] - 6s 12us/step - loss: 0.4036 - merge_1_loss: 0.2245 - merge_2_loss: 0.1790 - merge_1_acc: 0.6276 - merge_2_acc: 0.2291 - val_loss: 0.4147 - val_merge_1_loss: 0.2358 - val_merge_2_loss: 0.1788 - val_merge_1_acc: 0.6010 - val_merge_2_acc: 0.2234\n",
      "Epoch 10/50\n",
      "500000/500000 [==============================] - 6s 11us/step - loss: 0.3987 - merge_1_loss: 0.2209 - merge_2_loss: 0.1778 - merge_1_acc: 0.6361 - merge_2_acc: 0.2290 - val_loss: 0.4121 - val_merge_1_loss: 0.2313 - val_merge_2_loss: 0.1808 - val_merge_1_acc: 0.6152 - val_merge_2_acc: 0.2262\n",
      "Epoch 11/50\n",
      "500000/500000 [==============================] - 5s 10us/step - loss: 0.3947 - merge_1_loss: 0.2181 - merge_2_loss: 0.1766 - merge_1_acc: 0.6433 - merge_2_acc: 0.2291 - val_loss: 0.4105 - val_merge_1_loss: 0.2320 - val_merge_2_loss: 0.1786 - val_merge_1_acc: 0.6154 - val_merge_2_acc: 0.2254\n",
      "Epoch 12/50\n",
      "500000/500000 [==============================] - 6s 12us/step - loss: 0.3911 - merge_1_loss: 0.2154 - merge_2_loss: 0.1757 - merge_1_acc: 0.6498 - merge_2_acc: 0.2291 - val_loss: 0.4093 - val_merge_1_loss: 0.2298 - val_merge_2_loss: 0.1796 - val_merge_1_acc: 0.6218 - val_merge_2_acc: 0.2276\n",
      "Epoch 13/50\n",
      "500000/500000 [==============================] - 5s 10us/step - loss: 0.3881 - merge_1_loss: 0.2132 - merge_2_loss: 0.1749 - merge_1_acc: 0.6552 - merge_2_acc: 0.2292 - val_loss: 0.4080 - val_merge_1_loss: 0.2304 - val_merge_2_loss: 0.1777 - val_merge_1_acc: 0.6196 - val_merge_2_acc: 0.2278\n",
      "Epoch 14/50\n",
      "500000/500000 [==============================] - 5s 11us/step - loss: 0.3854 - merge_1_loss: 0.2112 - merge_2_loss: 0.1742 - merge_1_acc: 0.6598 - merge_2_acc: 0.2294 - val_loss: 0.4080 - val_merge_1_loss: 0.2325 - val_merge_2_loss: 0.1755 - val_merge_1_acc: 0.6150 - val_merge_2_acc: 0.2268\n",
      "Epoch 15/50\n",
      "500000/500000 [==============================] - 6s 11us/step - loss: 0.3830 - merge_1_loss: 0.2094 - merge_2_loss: 0.1736 - merge_1_acc: 0.6643 - merge_2_acc: 0.2293 - val_loss: 0.4073 - val_merge_1_loss: 0.2302 - val_merge_2_loss: 0.1770 - val_merge_1_acc: 0.6220 - val_merge_2_acc: 0.2262\n",
      "Epoch 16/50\n",
      "500000/500000 [==============================] - 6s 12us/step - loss: 0.3809 - merge_1_loss: 0.2079 - merge_2_loss: 0.1730 - merge_1_acc: 0.6674 - merge_2_acc: 0.2295 - val_loss: 0.4070 - val_merge_1_loss: 0.2299 - val_merge_2_loss: 0.1770 - val_merge_1_acc: 0.6260 - val_merge_2_acc: 0.2284\n",
      "Epoch 17/50\n",
      "500000/500000 [==============================] - 6s 12us/step - loss: 0.3790 - merge_1_loss: 0.2064 - merge_2_loss: 0.1726 - merge_1_acc: 0.6711 - merge_2_acc: 0.2293 - val_loss: 0.4067 - val_merge_1_loss: 0.2295 - val_merge_2_loss: 0.1772 - val_merge_1_acc: 0.6264 - val_merge_2_acc: 0.2280\n",
      "Epoch 18/50\n",
      "500000/500000 [==============================] - 7s 15us/step - loss: 0.3774 - merge_1_loss: 0.2052 - merge_2_loss: 0.1722 - merge_1_acc: 0.6735 - merge_2_acc: 0.2293 - val_loss: 0.4069 - val_merge_1_loss: 0.2312 - val_merge_2_loss: 0.1757 - val_merge_1_acc: 0.6262 - val_merge_2_acc: 0.2278\n",
      "Epoch 19/50\n",
      "500000/500000 [==============================] - 7s 14us/step - loss: 0.3760 - merge_1_loss: 0.2041 - merge_2_loss: 0.1718 - merge_1_acc: 0.6763 - merge_2_acc: 0.2296 - val_loss: 0.4066 - val_merge_1_loss: 0.2298 - val_merge_2_loss: 0.1768 - val_merge_1_acc: 0.6292 - val_merge_2_acc: 0.2272\n",
      "Epoch 20/50\n",
      "500000/500000 [==============================] - 6s 13us/step - loss: 0.3746 - merge_1_loss: 0.2031 - merge_2_loss: 0.1715 - merge_1_acc: 0.6785 - merge_2_acc: 0.2296 - val_loss: 0.4067 - val_merge_1_loss: 0.2297 - val_merge_2_loss: 0.1770 - val_merge_1_acc: 0.6290 - val_merge_2_acc: 0.2264\n",
      "Epoch 21/50\n",
      "500000/500000 [==============================] - 6s 12us/step - loss: 0.3734 - merge_1_loss: 0.2021 - merge_2_loss: 0.1713 - merge_1_acc: 0.6807 - merge_2_acc: 0.2292 - val_loss: 0.4073 - val_merge_1_loss: 0.2299 - val_merge_2_loss: 0.1774 - val_merge_1_acc: 0.6294 - val_merge_2_acc: 0.2282\n",
      "Epoch 22/50\n",
      "500000/500000 [==============================] - 6s 11us/step - loss: 0.3724 - merge_1_loss: 0.2013 - merge_2_loss: 0.1710 - merge_1_acc: 0.6824 - merge_2_acc: 0.2293 - val_loss: 0.4076 - val_merge_1_loss: 0.2296 - val_merge_2_loss: 0.1779 - val_merge_1_acc: 0.6350 - val_merge_2_acc: 0.2284\n",
      "Epoch 23/50\n",
      "500000/500000 [==============================] - 5s 11us/step - loss: 0.3714 - merge_1_loss: 0.2005 - merge_2_loss: 0.1709 - merge_1_acc: 0.6841 - merge_2_acc: 0.2293 - val_loss: 0.4080 - val_merge_1_loss: 0.2300 - val_merge_2_loss: 0.1780 - val_merge_1_acc: 0.6350 - val_merge_2_acc: 0.2260\n",
      "Epoch 24/50\n",
      "500000/500000 [==============================] - 12s 24us/step - loss: 0.3705 - merge_1_loss: 0.1998 - merge_2_loss: 0.1707 - merge_1_acc: 0.6855 - merge_2_acc: 0.2292 - val_loss: 0.4082 - val_merge_1_loss: 0.2312 - val_merge_2_loss: 0.1771 - val_merge_1_acc: 0.6274 - val_merge_2_acc: 0.2282\n",
      "Epoch 25/50\n",
      "500000/500000 [==============================] - 11s 23us/step - loss: 0.3698 - merge_1_loss: 0.1993 - merge_2_loss: 0.1705 - merge_1_acc: 0.6869 - merge_2_acc: 0.2293 - val_loss: 0.4088 - val_merge_1_loss: 0.2327 - val_merge_2_loss: 0.1761 - val_merge_1_acc: 0.6278 - val_merge_2_acc: 0.2258\n",
      "Epoch 26/50\n",
      "500000/500000 [==============================] - 16s 32us/step - loss: 0.3690 - merge_1_loss: 0.1986 - merge_2_loss: 0.1704 - merge_1_acc: 0.6878 - merge_2_acc: 0.2292 - val_loss: 0.4092 - val_merge_1_loss: 0.2317 - val_merge_2_loss: 0.1775 - val_merge_1_acc: 0.6278 - val_merge_2_acc: 0.2284\n",
      "Epoch 27/50\n",
      "500000/500000 [==============================] - 12s 24us/step - loss: 0.3683 - merge_1_loss: 0.1980 - merge_2_loss: 0.1703 - merge_1_acc: 0.6895 - merge_2_acc: 0.2289 - val_loss: 0.4093 - val_merge_1_loss: 0.2319 - val_merge_2_loss: 0.1774 - val_merge_1_acc: 0.6308 - val_merge_2_acc: 0.2266\n"
     ]
    },
    {
     "name": "stdout",
     "output_type": "stream",
     "text": [
      "Epoch 28/50\n",
      "500000/500000 [==============================] - 13s 27us/step - loss: 0.3678 - merge_1_loss: 0.1975 - merge_2_loss: 0.1702 - merge_1_acc: 0.6903 - merge_2_acc: 0.2295 - val_loss: 0.4100 - val_merge_1_loss: 0.2326 - val_merge_2_loss: 0.1774 - val_merge_1_acc: 0.6262 - val_merge_2_acc: 0.2254\n",
      "Epoch 29/50\n",
      "500000/500000 [==============================] - 11s 21us/step - loss: 0.3672 - merge_1_loss: 0.1971 - merge_2_loss: 0.1701 - merge_1_acc: 0.6915 - merge_2_acc: 0.2292 - val_loss: 0.4101 - val_merge_1_loss: 0.2333 - val_merge_2_loss: 0.1768 - val_merge_1_acc: 0.6260 - val_merge_2_acc: 0.2270\n",
      "Epoch 30/50\n",
      "500000/500000 [==============================] - 9s 18us/step - loss: 0.3667 - merge_1_loss: 0.1965 - merge_2_loss: 0.1701 - merge_1_acc: 0.6928 - merge_2_acc: 0.2293 - val_loss: 0.4106 - val_merge_1_loss: 0.2317 - val_merge_2_loss: 0.1789 - val_merge_1_acc: 0.6316 - val_merge_2_acc: 0.2266\n",
      "Epoch 31/50\n",
      "500000/500000 [==============================] - 12s 24us/step - loss: 0.3662 - merge_1_loss: 0.1962 - merge_2_loss: 0.1700 - merge_1_acc: 0.6932 - merge_2_acc: 0.2293 - val_loss: 0.4111 - val_merge_1_loss: 0.2313 - val_merge_2_loss: 0.1797 - val_merge_1_acc: 0.6324 - val_merge_2_acc: 0.2296\n",
      "Epoch 32/50\n",
      "500000/500000 [==============================] - 14s 28us/step - loss: 0.3658 - merge_1_loss: 0.1958 - merge_2_loss: 0.1700 - merge_1_acc: 0.6945 - merge_2_acc: 0.2293 - val_loss: 0.4115 - val_merge_1_loss: 0.2347 - val_merge_2_loss: 0.1768 - val_merge_1_acc: 0.6254 - val_merge_2_acc: 0.2272\n",
      "Epoch 33/50\n",
      "500000/500000 [==============================] - 10s 20us/step - loss: 0.3654 - merge_1_loss: 0.1954 - merge_2_loss: 0.1700 - merge_1_acc: 0.6953 - merge_2_acc: 0.2294 - val_loss: 0.4124 - val_merge_1_loss: 0.2366 - val_merge_2_loss: 0.1758 - val_merge_1_acc: 0.6212 - val_merge_2_acc: 0.2264\n",
      "Epoch 34/50\n",
      "500000/500000 [==============================] - 11s 22us/step - loss: 0.3650 - merge_1_loss: 0.1951 - merge_2_loss: 0.1699 - merge_1_acc: 0.6957 - merge_2_acc: 0.2294 - val_loss: 0.4127 - val_merge_1_loss: 0.2359 - val_merge_2_loss: 0.1769 - val_merge_1_acc: 0.6234 - val_merge_2_acc: 0.2292\n",
      "Epoch 35/50\n",
      "500000/500000 [==============================] - 10s 19us/step - loss: 0.3647 - merge_1_loss: 0.1948 - merge_2_loss: 0.1699 - merge_1_acc: 0.6965 - merge_2_acc: 0.2296 - val_loss: 0.4128 - val_merge_1_loss: 0.2343 - val_merge_2_loss: 0.1786 - val_merge_1_acc: 0.6254 - val_merge_2_acc: 0.2262\n",
      "Epoch 36/50\n",
      "500000/500000 [==============================] - 11s 23us/step - loss: 0.3644 - merge_1_loss: 0.1945 - merge_2_loss: 0.1699 - merge_1_acc: 0.6974 - merge_2_acc: 0.2295 - val_loss: 0.4135 - val_merge_1_loss: 0.2368 - val_merge_2_loss: 0.1767 - val_merge_1_acc: 0.6232 - val_merge_2_acc: 0.2256\n",
      "Epoch 37/50\n",
      "500000/500000 [==============================] - 22s 45us/step - loss: 0.3641 - merge_1_loss: 0.1942 - merge_2_loss: 0.1698 - merge_1_acc: 0.6974 - merge_2_acc: 0.2293 - val_loss: 0.4138 - val_merge_1_loss: 0.2330 - val_merge_2_loss: 0.1807 - val_merge_1_acc: 0.6316 - val_merge_2_acc: 0.2252.6980 - merge_2_\n",
      "Epoch 38/50\n",
      "500000/500000 [==============================] - 21s 42us/step - loss: 0.3638 - merge_1_loss: 0.1939 - merge_2_loss: 0.1699 - merge_1_acc: 0.6983 - merge_2_acc: 0.2295 - val_loss: 0.4142 - val_merge_1_loss: 0.2365 - val_merge_2_loss: 0.1778 - val_merge_1_acc: 0.6250 - val_merge_2_acc: 0.2222\n",
      "Epoch 39/50\n",
      "500000/500000 [==============================] - 19s 39us/step - loss: 0.3635 - merge_1_loss: 0.1937 - merge_2_loss: 0.1698 - merge_1_acc: 0.6989 - merge_2_acc: 0.2294 - val_loss: 0.4149 - val_merge_1_loss: 0.2368 - val_merge_2_loss: 0.1781 - val_merge_1_acc: 0.6224 - val_merge_2_acc: 0.2248\n",
      "Epoch 40/50\n",
      "500000/500000 [==============================] - 25s 49us/step - loss: 0.3633 - merge_1_loss: 0.1935 - merge_2_loss: 0.1698 - merge_1_acc: 0.6995 - merge_2_acc: 0.2292 - val_loss: 0.4151 - val_merge_1_loss: 0.2366 - val_merge_2_loss: 0.1785 - val_merge_1_acc: 0.6246 - val_merge_2_acc: 0.2242\n",
      "Epoch 41/50\n",
      "500000/500000 [==============================] - 26s 51us/step - loss: 0.3630 - merge_1_loss: 0.1931 - merge_2_loss: 0.1699 - merge_1_acc: 0.6997 - merge_2_acc: 0.2293 - val_loss: 0.4155 - val_merge_1_loss: 0.2362 - val_merge_2_loss: 0.1793 - val_merge_1_acc: 0.6266 - val_merge_2_acc: 0.2238\n",
      "Epoch 42/50\n",
      "500000/500000 [==============================] - 25s 50us/step - loss: 0.3628 - merge_1_loss: 0.1930 - merge_2_loss: 0.1699 - merge_1_acc: 0.7005 - merge_2_acc: 0.2291 - val_loss: 0.4162 - val_merge_1_loss: 0.2395 - val_merge_2_loss: 0.1767 - val_merge_1_acc: 0.6196 - val_merge_2_acc: 0.2244\n",
      "Epoch 43/50\n",
      "500000/500000 [==============================] - 28s 56us/step - loss: 0.3626 - merge_1_loss: 0.1928 - merge_2_loss: 0.1698 - merge_1_acc: 0.7008 - merge_2_acc: 0.2293 - val_loss: 0.4169 - val_merge_1_loss: 0.2375 - val_merge_2_loss: 0.1794 - val_merge_1_acc: 0.6242 - val_merge_2_acc: 0.2262\n",
      "Epoch 44/50\n",
      "500000/500000 [==============================] - 25s 51us/step - loss: 0.3625 - merge_1_loss: 0.1926 - merge_2_loss: 0.1699 - merge_1_acc: 0.7012 - merge_2_acc: 0.2293 - val_loss: 0.4169 - val_merge_1_loss: 0.2378 - val_merge_2_loss: 0.1791 - val_merge_1_acc: 0.6260 - val_merge_2_acc: 0.2238\n",
      "Epoch 45/50\n",
      "500000/500000 [==============================] - 26s 52us/step - loss: 0.3623 - merge_1_loss: 0.1925 - merge_2_loss: 0.1698 - merge_1_acc: 0.7012 - merge_2_acc: 0.2296 - val_loss: 0.4173 - val_merge_1_loss: 0.2358 - val_merge_2_loss: 0.1815 - val_merge_1_acc: 0.6318 - val_merge_2_acc: 0.2238\n",
      "Epoch 46/50\n",
      "500000/500000 [==============================] - 26s 52us/step - loss: 0.3621 - merge_1_loss: 0.1923 - merge_2_loss: 0.1699 - merge_1_acc: 0.7019 - merge_2_acc: 0.2292 - val_loss: 0.4174 - val_merge_1_loss: 0.2389 - val_merge_2_loss: 0.1785 - val_merge_1_acc: 0.6214 - val_merge_2_acc: 0.2262\n",
      "Epoch 47/50\n",
      "500000/500000 [==============================] - 25s 49us/step - loss: 0.3619 - merge_1_loss: 0.1921 - merge_2_loss: 0.1699 - merge_1_acc: 0.7022 - merge_2_acc: 0.2292 - val_loss: 0.4181 - val_merge_1_loss: 0.2371 - val_merge_2_loss: 0.1809 - val_merge_1_acc: 0.6270 - val_merge_2_acc: 0.2256\n",
      "Epoch 48/50\n",
      "500000/500000 [==============================] - 25s 50us/step - loss: 0.3618 - merge_1_loss: 0.1920 - merge_2_loss: 0.1698 - merge_1_acc: 0.7027 - merge_2_acc: 0.2294 - val_loss: 0.4183 - val_merge_1_loss: 0.2380 - val_merge_2_loss: 0.1802 - val_merge_1_acc: 0.6270 - val_merge_2_acc: 0.2242\n",
      "Epoch 49/50\n",
      "500000/500000 [==============================] - 24s 48us/step - loss: 0.3616 - merge_1_loss: 0.1918 - merge_2_loss: 0.1699 - merge_1_acc: 0.7030 - merge_2_acc: 0.2289 - val_loss: 0.4187 - val_merge_1_loss: 0.2367 - val_merge_2_loss: 0.1820 - val_merge_1_acc: 0.6298 - val_merge_2_acc: 0.2258\n",
      "Epoch 50/50\n",
      "500000/500000 [==============================] - 25s 51us/step - loss: 0.3616 - merge_1_loss: 0.1917 - merge_2_loss: 0.1699 - merge_1_acc: 0.7030 - merge_2_acc: 0.2292 - val_loss: 0.4192 - val_merge_1_loss: 0.2375 - val_merge_2_loss: 0.1816 - val_merge_1_acc: 0.6306 - val_merge_2_acc: 0.2256\n"
     ]
    },
    {
     "data": {
      "text/plain": [
       "<keras.callbacks.History at 0x11c4a3748>"
      ]
     },
     "execution_count": 13,
     "metadata": {},
     "output_type": "execute_result"
    }
   ],
   "source": [
    "tensorboard = TensorBoard(log_dir='./logs/wordvec', \n",
    "  batch_size=500, histogram_freq=1, write_images=True, write_grads=False, write_graph=True, embeddings_freq=1)\n",
    "\n",
    "model_checkpoint = ModelCheckpoint('./logs/model.hdf5')\n",
    "\n",
    "model.fit(X,Y,epochs=50,batch_size=500,callbacks=[model_checkpoint,tensorboard], validation_data=(vX,vY))"
   ]
  },
  {
   "cell_type": "code",
   "execution_count": null,
   "metadata": {},
   "outputs": [],
   "source": []
  }
 ],
 "metadata": {
  "kernelspec": {
   "display_name": "nlp",
   "language": "python",
   "name": "nlp"
  },
  "language_info": {
   "codemirror_mode": {
    "name": "ipython",
    "version": 3
   },
   "file_extension": ".py",
   "mimetype": "text/x-python",
   "name": "python",
   "nbconvert_exporter": "python",
   "pygments_lexer": "ipython3",
   "version": "3.6.4"
  }
 },
 "nbformat": 4,
 "nbformat_minor": 2
}
