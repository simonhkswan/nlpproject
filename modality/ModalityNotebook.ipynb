{
 "cells": [
  {
   "cell_type": "code",
   "execution_count": 2,
   "metadata": {},
   "outputs": [],
   "source": [
    "import os\n",
    "import urllib.request\n",
    "import zipfile\n",
    "import xml.etree.ElementTree as ET"
   ]
  },
  {
   "cell_type": "code",
   "execution_count": 3,
   "metadata": {},
   "outputs": [],
   "source": [
    "dl_PATH = '../downloads/'"
   ]
  },
  {
   "cell_type": "code",
   "execution_count": 7,
   "metadata": {},
   "outputs": [],
   "source": [
    "def maybe_download(url, name):\n",
    "    \n",
    "    global dl_PATH\n",
    "    \n",
    "    if not os.path.exists(dl_PATH):\n",
    "        os.makedirs(dl_PATH)\n",
    "        \n",
    "    if os.path.isfile(dl_PATH+name):\n",
    "        print(name+' already downloaded.')\n",
    "    else:\n",
    "        try:\n",
    "            urllib.request.urlretrieve(url, dl_PATH+name)\n",
    "            print(name+' successfully downloaded.')\n",
    "        except:\n",
    "            print('Error downloading '+name+'.')\n",
    "        \n",
    "def maybe_unzip(zname):\n",
    "    global dl_PATH\n",
    "    \n",
    "    if not os.path.isfile(dl_PATH+'task1_train_bio_abstracts_rev2.xml'):\n",
    "        with zipfile.ZipFile(dl_PATH+zname, 'r') as zipref:\n",
    "            zipref.extractall(dl_PATH)\n",
    "    else:\n",
    "        print(zname+' already unzipped.')"
   ]
  },
  {
   "cell_type": "code",
   "execution_count": 8,
   "metadata": {},
   "outputs": [
    {
     "name": "stdout",
     "output_type": "stream",
     "text": [
      "task1_train_bio.zip already downloaded.\n"
     ]
    }
   ],
   "source": [
    "maybe_download('http://rgai.inf.u-szeged.hu/~vinczev/conll2010st/task1_train_bio_rev2.zip', 'task1_train_bio.zip')\n",
    "maybe_unzip('task1_train_bio.zip') #'task1_train_bio_abstracts_rev2.xml' and 'task1_train_bio_fullarticles_rev2.xml'"
   ]
  },
  {
   "cell_type": "code",
   "execution_count": 130,
   "metadata": {},
   "outputs": [],
   "source": [
    "class TextData(object):\n",
    "    def __init__(self, xml):\n",
    "        with open(dl_PATH+xml) as fd:\n",
    "            self.ETree = ET.parse(fd)\n",
    "            \n",
    "    def totaldocNo(self):\n",
    "        return(len(self.get_documents()))\n",
    "        \n",
    "    def totsentNo(self):\n",
    "        N = 0\n",
    "        for doc in self.getdocuments():\n",
    "            N += len(doc[2][:])\n",
    "        return(N)\n",
    "    \n",
    "    def get_docs(self, start=None, stop=None):\n",
    "        return(self.ETree.getroot()[0][start:stop])\n",
    "    \n",
    "    def tosent(doc):\n",
    "        return(doc[2][:])\n",
    "    \n",
    "    def get_sentences(self):\n",
    "        sentences = []\n",
    "        for doc in self.get_docs():\n",
    "            for part in doc[1:]:\n",
    "                for sent in part[:]:\n",
    "                    sentences.append(sent)\n",
    "        return(sentences)\n",
    "\n",
    "def toString(sentElement):\n",
    "    sent = sentElement.text\n",
    "    ccuelen = len(sentElement.getchildren())\n",
    "    if ccuelen > 0:\n",
    "        for i in range(ccuelen):\n",
    "            sent += sentElement[i].text\n",
    "            sent += sentElement[i].tail\n",
    "    return(sent)\n",
    "\n",
    "def toStrings(sentElements):\n",
    "    strings = []\n",
    "    for element in sentElements:\n",
    "        strings.append(toString(element))\n",
    "    \n",
    "def isCertain(sentElement):\n",
    "    if sentElement.attrib['certainty'] == 'certain':\n",
    "        return(True)\n",
    "    else:\n",
    "        return(False)\n",
    "    \n",
    "def get_cues(sentElement):\n",
    "    return sentElement.getchildren()\n",
    "\n",
    "def num_words(string):\n",
    "    return len(string.replace('/',' ').split())\n",
    "\n",
    "def cue_positions(sentElement):\n",
    "    pos = 0\n",
    "    positions = []\n",
    "    pos += num_words(toString(sentElement))\n",
    "    for cue in get_cues(sentElement)[::-1]:\n",
    "        pos -= num_words(cue.tail)\n",
    "        pos -= num_words(cue.text)\n",
    "        positions.append(pos)\n",
    "    return(positions[::-1])\n"
   ]
  },
  {
   "cell_type": "code",
   "execution_count": 131,
   "metadata": {},
   "outputs": [],
   "source": [
    "data = TextData('task1_train_bio_abstracts_rev2.xml')    "
   ]
  },
  {
   "cell_type": "code",
   "execution_count": 132,
   "metadata": {
    "scrolled": true
   },
   "outputs": [
    {
     "name": "stdout",
     "output_type": "stream",
     "text": [
      "<Element 'Document' at 0x109c0e688>\n"
     ]
    }
   ],
   "source": [
    "print(data.get_docs(0,1)[0])\n"
   ]
  },
  {
   "cell_type": "code",
   "execution_count": 133,
   "metadata": {},
   "outputs": [],
   "source": [
    "sentences = data.get_sentences()"
   ]
  },
  {
   "cell_type": "code",
   "execution_count": 137,
   "metadata": {},
   "outputs": [
    {
     "name": "stdout",
     "output_type": "stream",
     "text": [
      "31\n",
      "Electrophoretic mobility shift assays and Southwestern blotting experiments were used to detect the binding of cellular transactivation factor NF-KB to the double repeat-KB enhancer sequence located in the long terminal repeat.\n",
      "[]\n",
      "[]\n"
     ]
    }
   ],
   "source": [
    "print(num_words(toString(sentences[2])))\n",
    "print(toString(sentences[2]))\n",
    "print(get_cues(sentences[3]))\n",
    "print(cue_positions(sentences[3]))"
   ]
  },
  {
   "cell_type": "code",
   "execution_count": null,
   "metadata": {},
   "outputs": [],
   "source": []
  }
 ],
 "metadata": {
  "kernelspec": {
   "display_name": "nlp",
   "language": "python",
   "name": "nlp"
  }
 },
 "nbformat": 4,
 "nbformat_minor": 2
}
